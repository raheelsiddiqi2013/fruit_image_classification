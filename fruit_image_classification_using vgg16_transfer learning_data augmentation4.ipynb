{
 "cells": [
  {
   "cell_type": "code",
   "execution_count": 1,
   "metadata": {},
   "outputs": [],
   "source": [
    "from tensorflow.python.keras.applications import VGG16\n",
    "\n",
    "conv_base=VGG16(weights='imagenet',include_top=False,input_shape=(100,100,3))"
   ]
  },
  {
   "cell_type": "code",
   "execution_count": 2,
   "metadata": {},
   "outputs": [
    {
     "name": "stdout",
     "output_type": "stream",
     "text": [
      "_________________________________________________________________\n",
      "Layer (type)                 Output Shape              Param #   \n",
      "=================================================================\n",
      "input_1 (InputLayer)         (None, 100, 100, 3)       0         \n",
      "_________________________________________________________________\n",
      "block1_conv1 (Conv2D)        (None, 100, 100, 64)      1792      \n",
      "_________________________________________________________________\n",
      "block1_conv2 (Conv2D)        (None, 100, 100, 64)      36928     \n",
      "_________________________________________________________________\n",
      "block1_pool (MaxPooling2D)   (None, 50, 50, 64)        0         \n",
      "_________________________________________________________________\n",
      "block2_conv1 (Conv2D)        (None, 50, 50, 128)       73856     \n",
      "_________________________________________________________________\n",
      "block2_conv2 (Conv2D)        (None, 50, 50, 128)       147584    \n",
      "_________________________________________________________________\n",
      "block2_pool (MaxPooling2D)   (None, 25, 25, 128)       0         \n",
      "_________________________________________________________________\n",
      "block3_conv1 (Conv2D)        (None, 25, 25, 256)       295168    \n",
      "_________________________________________________________________\n",
      "block3_conv2 (Conv2D)        (None, 25, 25, 256)       590080    \n",
      "_________________________________________________________________\n",
      "block3_conv3 (Conv2D)        (None, 25, 25, 256)       590080    \n",
      "_________________________________________________________________\n",
      "block3_pool (MaxPooling2D)   (None, 12, 12, 256)       0         \n",
      "_________________________________________________________________\n",
      "block4_conv1 (Conv2D)        (None, 12, 12, 512)       1180160   \n",
      "_________________________________________________________________\n",
      "block4_conv2 (Conv2D)        (None, 12, 12, 512)       2359808   \n",
      "_________________________________________________________________\n",
      "block4_conv3 (Conv2D)        (None, 12, 12, 512)       2359808   \n",
      "_________________________________________________________________\n",
      "block4_pool (MaxPooling2D)   (None, 6, 6, 512)         0         \n",
      "_________________________________________________________________\n",
      "block5_conv1 (Conv2D)        (None, 6, 6, 512)         2359808   \n",
      "_________________________________________________________________\n",
      "block5_conv2 (Conv2D)        (None, 6, 6, 512)         2359808   \n",
      "_________________________________________________________________\n",
      "block5_conv3 (Conv2D)        (None, 6, 6, 512)         2359808   \n",
      "_________________________________________________________________\n",
      "block5_pool (MaxPooling2D)   (None, 3, 3, 512)         0         \n",
      "=================================================================\n",
      "Total params: 14,714,688\n",
      "Trainable params: 14,714,688\n",
      "Non-trainable params: 0\n",
      "_________________________________________________________________\n"
     ]
    }
   ],
   "source": [
    "conv_base.summary()"
   ]
  },
  {
   "cell_type": "code",
   "execution_count": 3,
   "metadata": {},
   "outputs": [],
   "source": [
    "import os\n",
    "import numpy as np\n",
    "from tensorflow.python.keras.preprocessing.image import ImageDataGenerator"
   ]
  },
  {
   "cell_type": "code",
   "execution_count": 4,
   "metadata": {},
   "outputs": [],
   "source": [
    "from tensorflow.python.keras import models\n",
    "from tensorflow.python.keras import layers\n",
    "\n",
    "model = models.Sequential()\n",
    "model.add(conv_base)\n",
    "model.add(layers.Flatten())\n",
    "model.add(layers.Dense(256, activation='relu'))\n",
    "model.add(layers.Dense(72, activation='softmax'))"
   ]
  },
  {
   "cell_type": "code",
   "execution_count": 5,
   "metadata": {},
   "outputs": [
    {
     "name": "stdout",
     "output_type": "stream",
     "text": [
      "_________________________________________________________________\n",
      "Layer (type)                 Output Shape              Param #   \n",
      "=================================================================\n",
      "vgg16 (Model)                (None, 3, 3, 512)         14714688  \n",
      "_________________________________________________________________\n",
      "flatten (Flatten)            (None, 4608)              0         \n",
      "_________________________________________________________________\n",
      "dense (Dense)                (None, 256)               1179904   \n",
      "_________________________________________________________________\n",
      "dense_1 (Dense)              (None, 72)                18504     \n",
      "=================================================================\n",
      "Total params: 15,913,096\n",
      "Trainable params: 15,913,096\n",
      "Non-trainable params: 0\n",
      "_________________________________________________________________\n"
     ]
    }
   ],
   "source": [
    "model.summary()"
   ]
  },
  {
   "cell_type": "code",
   "execution_count": 6,
   "metadata": {},
   "outputs": [],
   "source": [
    "train_dir='C:\\\\Users\\\\Raheel\\\\fruits_classification\\\\fruits-360_dataset\\\\fruits-360\\\\Training'"
   ]
  },
  {
   "cell_type": "code",
   "execution_count": 7,
   "metadata": {},
   "outputs": [],
   "source": [
    "validation_dir='C:\\\\Users\\\\Raheel\\\\fruits_classification\\\\fruits-360_dataset\\\\fruits-360\\\\Test'"
   ]
  },
  {
   "cell_type": "code",
   "execution_count": 8,
   "metadata": {},
   "outputs": [],
   "source": [
    "from tensorflow.python.keras import optimizers\n",
    "\n",
    "model.compile(loss='categorical_crossentropy',optimizer=optimizers.Adam(lr=1e-4),metrics=['categorical_accuracy'])"
   ]
  },
  {
   "cell_type": "code",
   "execution_count": 9,
   "metadata": {},
   "outputs": [
    {
     "name": "stdout",
     "output_type": "stream",
     "text": [
      "Found 36117 images belonging to 72 classes.\n",
      "Found 12132 images belonging to 72 classes.\n",
      "Epoch 1/100\n",
      "100/100 [==============================] - 35s 352ms/step - loss: 3.5212 - categorical_accuracy: 0.1584 - val_loss: 2.6239 - val_categorical_accuracy: 0.2344\n",
      "Epoch 2/100\n",
      "100/100 [==============================] - 31s 305ms/step - loss: 1.3816 - categorical_accuracy: 0.5968 - val_loss: 1.2810 - val_categorical_accuracy: 0.5763\n",
      "Epoch 3/100\n",
      "100/100 [==============================] - 29s 294ms/step - loss: 0.6363 - categorical_accuracy: 0.7997 - val_loss: 0.6383 - val_categorical_accuracy: 0.7256\n",
      "Epoch 4/100\n",
      "100/100 [==============================] - 29s 291ms/step - loss: 0.3951 - categorical_accuracy: 0.8706 - val_loss: 1.1872 - val_categorical_accuracy: 0.6306\n",
      "Epoch 5/100\n",
      "100/100 [==============================] - 29s 292ms/step - loss: 0.2864 - categorical_accuracy: 0.9053 - val_loss: 0.5291 - val_categorical_accuracy: 0.8163\n",
      "Epoch 6/100\n",
      "100/100 [==============================] - 29s 290ms/step - loss: 0.2703 - categorical_accuracy: 0.9103 - val_loss: 0.5996 - val_categorical_accuracy: 0.8363\n",
      "Epoch 7/100\n",
      "100/100 [==============================] - 29s 295ms/step - loss: 0.1514 - categorical_accuracy: 0.9481 - val_loss: 0.1766 - val_categorical_accuracy: 0.9081\n",
      "Epoch 8/100\n",
      "100/100 [==============================] - 29s 293ms/step - loss: 0.2027 - categorical_accuracy: 0.9297 - val_loss: 1.0142 - val_categorical_accuracy: 0.8013\n",
      "Epoch 9/100\n",
      "100/100 [==============================] - 29s 292ms/step - loss: 0.1696 - categorical_accuracy: 0.9434 - val_loss: 0.6067 - val_categorical_accuracy: 0.7969\n",
      "Epoch 10/100\n",
      "100/100 [==============================] - 29s 291ms/step - loss: 0.1200 - categorical_accuracy: 0.9541 - val_loss: 0.3874 - val_categorical_accuracy: 0.8756\n",
      "Epoch 11/100\n",
      "100/100 [==============================] - 29s 290ms/step - loss: 0.1439 - categorical_accuracy: 0.9503 - val_loss: 0.2561 - val_categorical_accuracy: 0.9150\n",
      "Epoch 12/100\n",
      "100/100 [==============================] - 29s 295ms/step - loss: 0.1404 - categorical_accuracy: 0.9516 - val_loss: 1.2334 - val_categorical_accuracy: 0.6288\n",
      "Epoch 13/100\n",
      "100/100 [==============================] - 29s 292ms/step - loss: 0.1727 - categorical_accuracy: 0.9403 - val_loss: 0.1743 - val_categorical_accuracy: 0.9050\n",
      "Epoch 14/100\n",
      "100/100 [==============================] - 29s 292ms/step - loss: 0.1298 - categorical_accuracy: 0.9525 - val_loss: 0.1913 - val_categorical_accuracy: 0.9350\n",
      "Epoch 15/100\n",
      "100/100 [==============================] - 29s 291ms/step - loss: 0.1237 - categorical_accuracy: 0.9569 - val_loss: 0.1840 - val_categorical_accuracy: 0.9250\n",
      "Epoch 16/100\n",
      "100/100 [==============================] - 29s 289ms/step - loss: 0.1268 - categorical_accuracy: 0.9562 - val_loss: 0.3130 - val_categorical_accuracy: 0.8656\n",
      "Epoch 17/100\n",
      "100/100 [==============================] - 29s 289ms/step - loss: 0.0813 - categorical_accuracy: 0.9697 - val_loss: 0.1837 - val_categorical_accuracy: 0.9237\n",
      "Epoch 18/100\n",
      "100/100 [==============================] - 29s 288ms/step - loss: 0.0989 - categorical_accuracy: 0.9681 - val_loss: 0.1161 - val_categorical_accuracy: 0.9681\n",
      "Epoch 19/100\n",
      "100/100 [==============================] - 29s 287ms/step - loss: 0.1029 - categorical_accuracy: 0.9628 - val_loss: 0.1265 - val_categorical_accuracy: 0.9469\n",
      "Epoch 20/100\n",
      "100/100 [==============================] - 29s 286ms/step - loss: 0.0934 - categorical_accuracy: 0.9688 - val_loss: 0.0996 - val_categorical_accuracy: 0.9644\n",
      "Epoch 21/100\n",
      "100/100 [==============================] - 29s 286ms/step - loss: 0.0567 - categorical_accuracy: 0.9813 - val_loss: 0.0647 - val_categorical_accuracy: 0.9744\n",
      "Epoch 22/100\n",
      "100/100 [==============================] - 29s 286ms/step - loss: 0.0895 - categorical_accuracy: 0.9675 - val_loss: 0.0754 - val_categorical_accuracy: 0.9731\n",
      "Epoch 23/100\n",
      "100/100 [==============================] - 29s 286ms/step - loss: 0.0995 - categorical_accuracy: 0.9678 - val_loss: 0.2544 - val_categorical_accuracy: 0.8906\n",
      "Epoch 24/100\n",
      "100/100 [==============================] - 29s 286ms/step - loss: 0.0927 - categorical_accuracy: 0.9700 - val_loss: 0.3597 - val_categorical_accuracy: 0.8494\n",
      "Epoch 25/100\n",
      "100/100 [==============================] - 29s 286ms/step - loss: 0.0463 - categorical_accuracy: 0.9822 - val_loss: 0.1188 - val_categorical_accuracy: 0.9531\n",
      "Epoch 26/100\n",
      "100/100 [==============================] - 29s 286ms/step - loss: 0.0932 - categorical_accuracy: 0.9703 - val_loss: 0.2255 - val_categorical_accuracy: 0.9056\n",
      "Epoch 27/100\n",
      "100/100 [==============================] - 29s 286ms/step - loss: 0.0513 - categorical_accuracy: 0.9825 - val_loss: 0.0598 - val_categorical_accuracy: 0.9850\n",
      "Epoch 28/100\n",
      "100/100 [==============================] - 29s 287ms/step - loss: 0.0741 - categorical_accuracy: 0.9750 - val_loss: 0.3183 - val_categorical_accuracy: 0.8988\n",
      "Epoch 29/100\n",
      "100/100 [==============================] - 29s 287ms/step - loss: 0.1398 - categorical_accuracy: 0.9569 - val_loss: 0.0927 - val_categorical_accuracy: 0.9712\n",
      "Epoch 30/100\n",
      "100/100 [==============================] - 29s 287ms/step - loss: 0.1052 - categorical_accuracy: 0.9659 - val_loss: 0.0371 - val_categorical_accuracy: 0.9906\n",
      "Epoch 31/100\n",
      "100/100 [==============================] - 29s 287ms/step - loss: 0.0657 - categorical_accuracy: 0.9794 - val_loss: 0.1434 - val_categorical_accuracy: 0.9494\n",
      "Epoch 32/100\n",
      "100/100 [==============================] - 29s 286ms/step - loss: 0.0703 - categorical_accuracy: 0.9769 - val_loss: 0.0216 - val_categorical_accuracy: 0.9975\n",
      "Epoch 33/100\n",
      "100/100 [==============================] - 29s 287ms/step - loss: 0.0873 - categorical_accuracy: 0.9741 - val_loss: 0.0736 - val_categorical_accuracy: 0.9788\n",
      "Epoch 34/100\n",
      "100/100 [==============================] - 29s 286ms/step - loss: 0.0962 - categorical_accuracy: 0.9678 - val_loss: 0.0841 - val_categorical_accuracy: 0.9694\n",
      "Epoch 35/100\n",
      "100/100 [==============================] - 29s 285ms/step - loss: 0.0548 - categorical_accuracy: 0.9813 - val_loss: 0.0846 - val_categorical_accuracy: 0.9738\n",
      "Epoch 36/100\n",
      "100/100 [==============================] - 29s 289ms/step - loss: 0.0819 - categorical_accuracy: 0.9744 - val_loss: 0.1829 - val_categorical_accuracy: 0.9244\n",
      "Epoch 37/100\n",
      "100/100 [==============================] - 29s 286ms/step - loss: 0.0413 - categorical_accuracy: 0.9834 - val_loss: 0.0226 - val_categorical_accuracy: 0.9981\n",
      "Epoch 38/100\n",
      "100/100 [==============================] - 29s 293ms/step - loss: 0.0346 - categorical_accuracy: 0.9878 - val_loss: 1.2238 - val_categorical_accuracy: 0.7519\n",
      "Epoch 39/100\n",
      "100/100 [==============================] - 29s 292ms/step - loss: 0.0648 - categorical_accuracy: 0.9775 - val_loss: 0.0378 - val_categorical_accuracy: 0.9900\n",
      "Epoch 40/100\n",
      "100/100 [==============================] - 29s 288ms/step - loss: 0.0545 - categorical_accuracy: 0.9813 - val_loss: 0.2943 - val_categorical_accuracy: 0.9113\n",
      "Epoch 41/100\n",
      "100/100 [==============================] - 29s 292ms/step - loss: 0.0923 - categorical_accuracy: 0.9700 - val_loss: 0.2299 - val_categorical_accuracy: 0.9425\n",
      "Epoch 42/100\n",
      "100/100 [==============================] - 29s 290ms/step - loss: 0.0623 - categorical_accuracy: 0.9772 - val_loss: 0.0412 - val_categorical_accuracy: 0.9925\n",
      "Epoch 43/100\n",
      "100/100 [==============================] - 29s 289ms/step - loss: 0.0510 - categorical_accuracy: 0.9819 - val_loss: 0.0542 - val_categorical_accuracy: 0.9800\n",
      "Epoch 44/100\n",
      "100/100 [==============================] - 29s 289ms/step - loss: 0.0455 - categorical_accuracy: 0.9825 - val_loss: 0.0183 - val_categorical_accuracy: 0.9938\n",
      "Epoch 45/100\n",
      "100/100 [==============================] - 29s 287ms/step - loss: 0.0731 - categorical_accuracy: 0.9734 - val_loss: 0.1440 - val_categorical_accuracy: 0.9419\n",
      "Epoch 46/100\n",
      "100/100 [==============================] - 29s 285ms/step - loss: 0.0995 - categorical_accuracy: 0.9694 - val_loss: 0.6241 - val_categorical_accuracy: 0.8888\n",
      "Epoch 47/100\n",
      "100/100 [==============================] - 29s 286ms/step - loss: 0.0937 - categorical_accuracy: 0.9728 - val_loss: 0.1830 - val_categorical_accuracy: 0.9269\n",
      "Epoch 48/100\n"
     ]
    },
    {
     "name": "stdout",
     "output_type": "stream",
     "text": [
      "100/100 [==============================] - 29s 287ms/step - loss: 0.0833 - categorical_accuracy: 0.9728 - val_loss: 0.1010 - val_categorical_accuracy: 0.9613\n",
      "Epoch 49/100\n",
      "100/100 [==============================] - 29s 286ms/step - loss: 0.0687 - categorical_accuracy: 0.9778 - val_loss: 0.0248 - val_categorical_accuracy: 0.9975\n",
      "Epoch 50/100\n",
      "100/100 [==============================] - 29s 285ms/step - loss: 0.0564 - categorical_accuracy: 0.9791 - val_loss: 0.0488 - val_categorical_accuracy: 0.9950\n",
      "Epoch 51/100\n",
      "100/100 [==============================] - 29s 287ms/step - loss: 0.0748 - categorical_accuracy: 0.9797 - val_loss: 0.2132 - val_categorical_accuracy: 0.9619\n",
      "Epoch 52/100\n",
      "100/100 [==============================] - 29s 286ms/step - loss: 0.0605 - categorical_accuracy: 0.9797 - val_loss: 0.0770 - val_categorical_accuracy: 0.9675\n",
      "Epoch 53/100\n",
      "100/100 [==============================] - 29s 287ms/step - loss: 0.0864 - categorical_accuracy: 0.9697 - val_loss: 0.3419 - val_categorical_accuracy: 0.9406\n",
      "Epoch 54/100\n",
      "100/100 [==============================] - 29s 286ms/step - loss: 0.0855 - categorical_accuracy: 0.9722 - val_loss: 0.1374 - val_categorical_accuracy: 0.9575\n",
      "Epoch 55/100\n",
      "100/100 [==============================] - 29s 286ms/step - loss: 0.0573 - categorical_accuracy: 0.9813 - val_loss: 0.1015 - val_categorical_accuracy: 0.9738\n",
      "Epoch 56/100\n",
      "100/100 [==============================] - 29s 286ms/step - loss: 0.0315 - categorical_accuracy: 0.9897 - val_loss: 0.0289 - val_categorical_accuracy: 0.9975\n",
      "Epoch 57/100\n",
      "100/100 [==============================] - 29s 286ms/step - loss: 0.0400 - categorical_accuracy: 0.9847 - val_loss: 0.0171 - val_categorical_accuracy: 0.9988\n",
      "Epoch 58/100\n",
      "100/100 [==============================] - 29s 286ms/step - loss: 0.1040 - categorical_accuracy: 0.9641 - val_loss: 0.1310 - val_categorical_accuracy: 0.9587\n",
      "Epoch 59/100\n",
      "100/100 [==============================] - 29s 286ms/step - loss: 0.0774 - categorical_accuracy: 0.9750 - val_loss: 0.0195 - val_categorical_accuracy: 0.9950\n",
      "Epoch 60/100\n",
      "100/100 [==============================] - 29s 286ms/step - loss: 0.0544 - categorical_accuracy: 0.9838 - val_loss: 0.0821 - val_categorical_accuracy: 0.9738\n",
      "Epoch 61/100\n",
      "100/100 [==============================] - 29s 287ms/step - loss: 0.0324 - categorical_accuracy: 0.9872 - val_loss: 0.3080 - val_categorical_accuracy: 0.9156\n",
      "Epoch 62/100\n",
      "100/100 [==============================] - 29s 286ms/step - loss: 0.0310 - categorical_accuracy: 0.9866 - val_loss: 0.0487 - val_categorical_accuracy: 0.9825\n",
      "Epoch 63/100\n",
      "100/100 [==============================] - 29s 286ms/step - loss: 0.0575 - categorical_accuracy: 0.9822 - val_loss: 0.0837 - val_categorical_accuracy: 0.9838\n",
      "Epoch 64/100\n",
      "100/100 [==============================] - 29s 288ms/step - loss: 0.1037 - categorical_accuracy: 0.9684 - val_loss: 0.1643 - val_categorical_accuracy: 0.9350\n",
      "Epoch 65/100\n",
      "100/100 [==============================] - 29s 285ms/step - loss: 0.0752 - categorical_accuracy: 0.9769 - val_loss: 0.2686 - val_categorical_accuracy: 0.9337\n",
      "Epoch 66/100\n",
      "100/100 [==============================] - 29s 286ms/step - loss: 0.0643 - categorical_accuracy: 0.9803 - val_loss: 0.2682 - val_categorical_accuracy: 0.9481\n",
      "Epoch 67/100\n",
      "100/100 [==============================] - 29s 286ms/step - loss: 0.0907 - categorical_accuracy: 0.9728 - val_loss: 0.2196 - val_categorical_accuracy: 0.9450\n",
      "Epoch 68/100\n",
      "100/100 [==============================] - 29s 286ms/step - loss: 0.0658 - categorical_accuracy: 0.9719 - val_loss: 0.0839 - val_categorical_accuracy: 0.9712\n",
      "Epoch 69/100\n",
      "100/100 [==============================] - 29s 286ms/step - loss: 0.0312 - categorical_accuracy: 0.9869 - val_loss: 0.0090 - val_categorical_accuracy: 0.9981\n",
      "Epoch 70/100\n",
      "100/100 [==============================] - 31s 307ms/step - loss: 0.0130 - categorical_accuracy: 0.9928 - val_loss: 0.0098 - val_categorical_accuracy: 0.9994\n",
      "Epoch 71/100\n",
      "100/100 [==============================] - 38s 383ms/step - loss: 0.0159 - categorical_accuracy: 0.9919 - val_loss: 0.0145 - val_categorical_accuracy: 0.9994\n",
      "Epoch 72/100\n",
      "100/100 [==============================] - 29s 286ms/step - loss: 0.1070 - categorical_accuracy: 0.9688 - val_loss: 0.1075 - val_categorical_accuracy: 0.9681\n",
      "Epoch 73/100\n",
      "100/100 [==============================] - 29s 286ms/step - loss: 0.1063 - categorical_accuracy: 0.9694 - val_loss: 0.0364 - val_categorical_accuracy: 0.9919\n",
      "Epoch 74/100\n",
      "100/100 [==============================] - 29s 286ms/step - loss: 0.0692 - categorical_accuracy: 0.9772 - val_loss: 0.0759 - val_categorical_accuracy: 0.9800\n",
      "Epoch 75/100\n",
      "100/100 [==============================] - 29s 286ms/step - loss: 0.0438 - categorical_accuracy: 0.9862 - val_loss: 0.0089 - val_categorical_accuracy: 0.9981\n",
      "Epoch 76/100\n",
      "100/100 [==============================] - 29s 285ms/step - loss: 0.0316 - categorical_accuracy: 0.9872 - val_loss: 0.0644 - val_categorical_accuracy: 0.9694\n",
      "Epoch 77/100\n",
      "100/100 [==============================] - 29s 286ms/step - loss: 0.0266 - categorical_accuracy: 0.9900 - val_loss: 0.0676 - val_categorical_accuracy: 0.9856\n",
      "Epoch 78/100\n",
      "100/100 [==============================] - 29s 286ms/step - loss: 0.0427 - categorical_accuracy: 0.9841 - val_loss: 0.1791 - val_categorical_accuracy: 0.9450\n",
      "Epoch 79/100\n",
      "100/100 [==============================] - 29s 286ms/step - loss: 0.0410 - categorical_accuracy: 0.9853 - val_loss: 0.0535 - val_categorical_accuracy: 0.9831\n",
      "Epoch 80/100\n",
      "100/100 [==============================] - 29s 286ms/step - loss: 0.0160 - categorical_accuracy: 0.9919 - val_loss: 0.0087 - val_categorical_accuracy: 0.9994\n",
      "Epoch 81/100\n",
      "100/100 [==============================] - 29s 286ms/step - loss: 0.0220 - categorical_accuracy: 0.9891 - val_loss: 0.0241 - val_categorical_accuracy: 0.9938\n",
      "Epoch 82/100\n",
      "100/100 [==============================] - 29s 285ms/step - loss: 0.0556 - categorical_accuracy: 0.9803 - val_loss: 0.0814 - val_categorical_accuracy: 0.9719\n",
      "Epoch 83/100\n",
      "100/100 [==============================] - 29s 286ms/step - loss: 0.0372 - categorical_accuracy: 0.9872 - val_loss: 0.1152 - val_categorical_accuracy: 0.9556\n",
      "Epoch 84/100\n",
      "100/100 [==============================] - 29s 286ms/step - loss: 0.0717 - categorical_accuracy: 0.9734 - val_loss: 0.2691 - val_categorical_accuracy: 0.9075\n",
      "Epoch 85/100\n",
      "100/100 [==============================] - 29s 286ms/step - loss: 0.0823 - categorical_accuracy: 0.9775 - val_loss: 0.3347 - val_categorical_accuracy: 0.8938\n",
      "Epoch 86/100\n",
      "100/100 [==============================] - 29s 286ms/step - loss: 0.1403 - categorical_accuracy: 0.9594 - val_loss: 0.2400 - val_categorical_accuracy: 0.9244\n",
      "Epoch 87/100\n",
      "100/100 [==============================] - 29s 285ms/step - loss: 0.0561 - categorical_accuracy: 0.9816 - val_loss: 0.0711 - val_categorical_accuracy: 0.9706\n",
      "Epoch 88/100\n",
      "100/100 [==============================] - 29s 286ms/step - loss: 0.0154 - categorical_accuracy: 0.9931 - val_loss: 0.0124 - val_categorical_accuracy: 0.9981\n",
      "Epoch 89/100\n",
      "100/100 [==============================] - 29s 285ms/step - loss: 0.0245 - categorical_accuracy: 0.9891 - val_loss: 0.1464 - val_categorical_accuracy: 0.9644\n",
      "Epoch 90/100\n",
      "100/100 [==============================] - 29s 285ms/step - loss: 0.0369 - categorical_accuracy: 0.9903 - val_loss: 0.0105 - val_categorical_accuracy: 0.9994\n",
      "Epoch 91/100\n",
      "100/100 [==============================] - 29s 286ms/step - loss: 0.0582 - categorical_accuracy: 0.9850 - val_loss: 0.1198 - val_categorical_accuracy: 0.9688\n",
      "Epoch 92/100\n",
      "100/100 [==============================] - 29s 286ms/step - loss: 0.0414 - categorical_accuracy: 0.9872 - val_loss: 0.0058 - val_categorical_accuracy: 0.9994\n",
      "Epoch 93/100\n",
      "100/100 [==============================] - 29s 285ms/step - loss: 0.0156 - categorical_accuracy: 0.9909 - val_loss: 0.0177 - val_categorical_accuracy: 0.9912\n",
      "Epoch 94/100\n",
      "100/100 [==============================] - 29s 285ms/step - loss: 0.0339 - categorical_accuracy: 0.9884 - val_loss: 0.0636 - val_categorical_accuracy: 0.9800\n",
      "Epoch 95/100\n",
      "100/100 [==============================] - 29s 285ms/step - loss: 0.1083 - categorical_accuracy: 0.9666 - val_loss: 0.0049 - val_categorical_accuracy: 0.9994\n"
     ]
    },
    {
     "name": "stdout",
     "output_type": "stream",
     "text": [
      "Epoch 96/100\n",
      "100/100 [==============================] - 29s 286ms/step - loss: 0.0809 - categorical_accuracy: 0.9744 - val_loss: 0.3451 - val_categorical_accuracy: 0.8900\n",
      "Epoch 97/100\n",
      "100/100 [==============================] - 29s 285ms/step - loss: 0.0725 - categorical_accuracy: 0.9776 - val_loss: 0.0259 - val_categorical_accuracy: 0.9925\n",
      "Epoch 98/100\n",
      "100/100 [==============================] - 28s 285ms/step - loss: 0.0534 - categorical_accuracy: 0.9828 - val_loss: 0.0301 - val_categorical_accuracy: 0.9881\n",
      "Epoch 99/100\n",
      "100/100 [==============================] - 29s 286ms/step - loss: 0.0318 - categorical_accuracy: 0.9859 - val_loss: 0.0970 - val_categorical_accuracy: 0.9650\n",
      "Epoch 100/100\n",
      "100/100 [==============================] - 29s 285ms/step - loss: 0.0191 - categorical_accuracy: 0.9900 - val_loss: 0.0069 - val_categorical_accuracy: 0.9994\n"
     ]
    }
   ],
   "source": [
    "train_datagen = ImageDataGenerator(\n",
    "    rescale=1./255,\n",
    "    rotation_range=40,\n",
    "    width_shift_range=0.2,\n",
    "    height_shift_range=0.2,\n",
    "    shear_range=0.2,\n",
    "    zoom_range=0.2,\n",
    "    horizontal_flip=True,)\n",
    "\n",
    "# Note that the validation data should not be augmented!\n",
    "test_datagen = ImageDataGenerator(rescale=1./255)\n",
    "\n",
    "train_generator = train_datagen.flow_from_directory(\n",
    "        # This is the target directory\n",
    "        train_dir,\n",
    "        # All images will be resized to 150x150\n",
    "        target_size=(100, 100),\n",
    "        batch_size=32)\n",
    "\n",
    "validation_generator = test_datagen.flow_from_directory(\n",
    "        validation_dir,\n",
    "        target_size=(100, 100),\n",
    "        batch_size=32, shuffle=False)\n",
    "\n",
    "history = model.fit_generator(\n",
    "      train_generator,\n",
    "      steps_per_epoch=100,\n",
    "      epochs=100,\n",
    "      validation_data=validation_generator,\n",
    "      validation_steps=50)"
   ]
  },
  {
   "cell_type": "code",
   "execution_count": 10,
   "metadata": {},
   "outputs": [],
   "source": [
    "import matplotlib.pyplot as plt"
   ]
  },
  {
   "cell_type": "code",
   "execution_count": 11,
   "metadata": {},
   "outputs": [
    {
     "data": {
      "image/png": "[encoded data removed]",
      "text/plain": [
       "<Figure size 432x288 with 1 Axes>"
      ]
     },
     "metadata": {},
     "output_type": "display_data"
    },
    {
     "data": {
      "image/png": "[encoded data removed]",
      "text/plain": [
       "<Figure size 432x288 with 1 Axes>"
      ]
     },
     "metadata": {},
     "output_type": "display_data"
    }
   ],
   "source": [
    "acc=history.history['categorical_accuracy']\n",
    "val_acc=history.history['val_categorical_accuracy']\n",
    "loss=history.history['loss']\n",
    "val_loss=history.history['val_loss']\n",
    "epochs=range(1,len(acc)+1)\n",
    "plt.xlabel('Epochs')\n",
    "plt.ylabel('Accuracy')\n",
    "plt.plot(epochs, acc, 'bo', label='Training acc')\n",
    "plt.plot(epochs, val_acc, 'b', label='Validation acc')\n",
    "plt.title('Training and validation accuracy')\n",
    "plt.legend()\n",
    "plt.savefig('fruit_image_classification_using vgg16_transfer learning_data augmentation4a',format='png')\n",
    "plt.figure()\n",
    "\n",
    "plt.plot(epochs, loss, 'bo', label='Training loss')\n",
    "plt.plot(epochs, val_loss, 'b', label='Validation loss')\n",
    "plt.title('Training and validation loss')\n",
    "plt.xlabel('Epochs')\n",
    "plt.ylabel('Loss')\n",
    "plt.legend()\n",
    "plt.savefig('fruit_image_classification_using vgg16_transfer learning_data augmentation4b',format='png')\n",
    "plt.show()"
   ]
  },
  {
   "cell_type": "code",
   "execution_count": 12,
   "metadata": {},
   "outputs": [],
   "source": [
    "steps_test=12132/32"
   ]
  },
  {
   "cell_type": "code",
   "execution_count": 13,
   "metadata": {},
   "outputs": [
    {
     "name": "stdout",
     "output_type": "stream",
     "text": [
      "379.125\n"
     ]
    }
   ],
   "source": [
    "print(steps_test)"
   ]
  },
  {
   "cell_type": "code",
   "execution_count": 14,
   "metadata": {},
   "outputs": [
    {
     "name": "stdout",
     "output_type": "stream",
     "text": [
      "Test-set classification accuracy: 99.27%\n"
     ]
    }
   ],
   "source": [
    "result = model.evaluate_generator(validation_generator, steps=steps_test)\n",
    "print(\"Test-set classification accuracy: {0:.2%}\".format(result[1]))"
   ]
  },
  {
   "cell_type": "code",
   "execution_count": null,
   "metadata": {},
   "outputs": [],
   "source": []
  }
 ],
 "metadata": {
  "kernelspec": {
   "display_name": "Python 3",
   "language": "python",
   "name": "python3"
  },
  "language_info": {
   "codemirror_mode": {
    "name": "ipython",
    "version": 3
   },
   "file_extension": ".py",
   "mimetype": "text/x-python",
   "name": "python",
   "nbconvert_exporter": "python",
   "pygments_lexer": "ipython3",
   "version": "3.5.5"
  }
 },
 "nbformat": 4,
 "nbformat_minor": 2
}
