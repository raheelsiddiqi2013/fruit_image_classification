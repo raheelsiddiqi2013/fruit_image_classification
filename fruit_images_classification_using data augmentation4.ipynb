{
 "cells": [
  {
   "cell_type": "code",
   "execution_count": 1,
   "metadata": {},
   "outputs": [],
   "source": [
    "from tensorflow.python.keras.preprocessing.image import ImageDataGenerator \n",
    "import os"
   ]
  },
  {
   "cell_type": "code",
   "execution_count": 2,
   "metadata": {},
   "outputs": [],
   "source": [
    "train_dir='C:\\\\Users\\\\Raheel\\\\fruits_classification\\\\fruits-360_dataset\\\\fruits-360\\\\Training'"
   ]
  },
  {
   "cell_type": "code",
   "execution_count": 3,
   "metadata": {},
   "outputs": [],
   "source": [
    "validation_dir='C:\\\\Users\\\\Raheel\\\\fruits_classification\\\\fruits-360_dataset\\\\fruits-360\\\\Test'"
   ]
  },
  {
   "cell_type": "code",
   "execution_count": 4,
   "metadata": {},
   "outputs": [],
   "source": [
    "from tensorflow.python.keras import models\n",
    "from tensorflow.python.keras import layers\n",
    "from tensorflow.python.keras.applications import VGG16"
   ]
  },
  {
   "cell_type": "code",
   "execution_count": 5,
   "metadata": {},
   "outputs": [],
   "source": [
    "model=models.Sequential()\n",
    "model.add(layers.Conv2D(32,(3,3),activation='relu',input_shape=(100,100,3)))\n",
    "model.add(layers.MaxPooling2D((2,2)))\n",
    "model.add(layers.Conv2D(64,(3,3),activation='relu'))\n",
    "model.add(layers.MaxPooling2D((2,2)))\n",
    "model.add(layers.Conv2D(128,(3,3),activation='relu'))\n",
    "model.add(layers.MaxPooling2D((2,2)))\n",
    "model.add(layers.Conv2D(128,(3,3),activation='relu'))\n",
    "model.add(layers.MaxPooling2D((2,2)))\n",
    "model.add(layers.Flatten())\n",
    "model.add(layers.Dropout(0.5))\n",
    "model.add(layers.Dense(512,activation='relu'))\n",
    "model.add(layers.Dense(72,activation='softmax'))"
   ]
  },
  {
   "cell_type": "code",
   "execution_count": 6,
   "metadata": {},
   "outputs": [],
   "source": [
    "from tensorflow.python.keras import optimizers\n",
    "\n",
    "model.compile(loss='categorical_crossentropy',optimizer=optimizers.Adam(lr=1e-4),metrics=['categorical_accuracy'])"
   ]
  },
  {
   "cell_type": "code",
   "execution_count": 7,
   "metadata": {},
   "outputs": [
    {
     "name": "stdout",
     "output_type": "stream",
     "text": [
      "Found 36117 images belonging to 72 classes.\n",
      "Found 12132 images belonging to 72 classes.\n",
      "Epoch 1/100\n",
      "100/100 [==============================] - 14s 144ms/step - loss: 4.2464 - categorical_accuracy: 0.0216 - val_loss: 4.3146 - val_categorical_accuracy: 0.0000e+00\n",
      "Epoch 2/100\n",
      "100/100 [==============================] - 10s 103ms/step - loss: 3.6669 - categorical_accuracy: 0.0778 - val_loss: 3.1988 - val_categorical_accuracy: 0.1613\n",
      "Epoch 3/100\n",
      "100/100 [==============================] - 12s 121ms/step - loss: 2.8600 - categorical_accuracy: 0.1722 - val_loss: 2.7746 - val_categorical_accuracy: 0.1956\n",
      "Epoch 4/100\n",
      "100/100 [==============================] - 11s 114ms/step - loss: 2.5142 - categorical_accuracy: 0.2422 - val_loss: 2.8054 - val_categorical_accuracy: 0.1237\n",
      "Epoch 5/100\n",
      "100/100 [==============================] - 10s 105ms/step - loss: 2.1976 - categorical_accuracy: 0.3144 - val_loss: 2.1816 - val_categorical_accuracy: 0.2644\n",
      "Epoch 6/100\n",
      "100/100 [==============================] - 11s 106ms/step - loss: 1.9414 - categorical_accuracy: 0.3869 - val_loss: 2.0313 - val_categorical_accuracy: 0.3319\n",
      "Epoch 7/100\n",
      "100/100 [==============================] - 12s 118ms/step - loss: 1.6779 - categorical_accuracy: 0.4669 - val_loss: 1.6315 - val_categorical_accuracy: 0.5825\n",
      "Epoch 8/100\n",
      "100/100 [==============================] - 12s 116ms/step - loss: 1.4735 - categorical_accuracy: 0.5181 - val_loss: 1.6724 - val_categorical_accuracy: 0.4356\n",
      "Epoch 9/100\n",
      "100/100 [==============================] - 12s 117ms/step - loss: 1.3599 - categorical_accuracy: 0.5644 - val_loss: 1.3620 - val_categorical_accuracy: 0.6200\n",
      "Epoch 10/100\n",
      "100/100 [==============================] - 10s 101ms/step - loss: 1.2132 - categorical_accuracy: 0.6012 - val_loss: 1.0947 - val_categorical_accuracy: 0.6481\n",
      "Epoch 11/100\n",
      "100/100 [==============================] - 10s 103ms/step - loss: 1.1343 - categorical_accuracy: 0.6397 - val_loss: 0.8776 - val_categorical_accuracy: 0.7794\n",
      "Epoch 12/100\n",
      "100/100 [==============================] - 10s 104ms/step - loss: 1.0209 - categorical_accuracy: 0.6747 - val_loss: 1.0320 - val_categorical_accuracy: 0.6887\n",
      "Epoch 13/100\n",
      "100/100 [==============================] - 10s 103ms/step - loss: 0.9758 - categorical_accuracy: 0.6734 - val_loss: 0.6814 - val_categorical_accuracy: 0.8538\n",
      "Epoch 14/100\n",
      "100/100 [==============================] - 11s 109ms/step - loss: 0.9178 - categorical_accuracy: 0.6990 - val_loss: 0.6298 - val_categorical_accuracy: 0.8125\n",
      "Epoch 15/100\n",
      "100/100 [==============================] - 11s 109ms/step - loss: 0.8772 - categorical_accuracy: 0.7075 - val_loss: 0.5584 - val_categorical_accuracy: 0.8675\n",
      "Epoch 16/100\n",
      "100/100 [==============================] - 13s 130ms/step - loss: 0.8213 - categorical_accuracy: 0.7297 - val_loss: 0.4657 - val_categorical_accuracy: 0.9281\n",
      "Epoch 17/100\n",
      "100/100 [==============================] - 11s 105ms/step - loss: 0.7351 - categorical_accuracy: 0.7453 - val_loss: 0.4281 - val_categorical_accuracy: 0.9044\n",
      "Epoch 18/100\n",
      "100/100 [==============================] - 11s 106ms/step - loss: 0.7634 - categorical_accuracy: 0.7441 - val_loss: 0.4703 - val_categorical_accuracy: 0.9006\n",
      "Epoch 19/100\n",
      "100/100 [==============================] - 10s 105ms/step - loss: 0.7164 - categorical_accuracy: 0.7562 - val_loss: 0.5124 - val_categorical_accuracy: 0.8206\n",
      "Epoch 20/100\n",
      "100/100 [==============================] - 10s 103ms/step - loss: 0.6589 - categorical_accuracy: 0.7781 - val_loss: 0.4276 - val_categorical_accuracy: 0.8450\n",
      "Epoch 21/100\n",
      "100/100 [==============================] - 10s 103ms/step - loss: 0.6212 - categorical_accuracy: 0.7875 - val_loss: 0.3604 - val_categorical_accuracy: 0.9237\n",
      "Epoch 22/100\n",
      "100/100 [==============================] - 10s 101ms/step - loss: 0.6110 - categorical_accuracy: 0.7913 - val_loss: 0.3576 - val_categorical_accuracy: 0.9175\n",
      "Epoch 23/100\n",
      "100/100 [==============================] - 10s 104ms/step - loss: 0.5854 - categorical_accuracy: 0.8047 - val_loss: 0.6314 - val_categorical_accuracy: 0.6956\n",
      "Epoch 24/100\n",
      "100/100 [==============================] - 10s 104ms/step - loss: 0.5617 - categorical_accuracy: 0.8147 - val_loss: 0.2825 - val_categorical_accuracy: 0.9444\n",
      "Epoch 25/100\n",
      "100/100 [==============================] - 10s 104ms/step - loss: 0.5393 - categorical_accuracy: 0.8216 - val_loss: 0.2711 - val_categorical_accuracy: 0.9275\n",
      "Epoch 26/100\n",
      "100/100 [==============================] - 10s 104ms/step - loss: 0.4897 - categorical_accuracy: 0.8350 - val_loss: 0.3256 - val_categorical_accuracy: 0.9369\n",
      "Epoch 27/100\n",
      "100/100 [==============================] - 10s 103ms/step - loss: 0.5249 - categorical_accuracy: 0.8273 - val_loss: 0.3809 - val_categorical_accuracy: 0.8844\n",
      "Epoch 28/100\n",
      "100/100 [==============================] - 11s 108ms/step - loss: 0.5104 - categorical_accuracy: 0.8269 - val_loss: 0.2909 - val_categorical_accuracy: 0.9263\n",
      "Epoch 29/100\n",
      "100/100 [==============================] - 11s 109ms/step - loss: 0.4766 - categorical_accuracy: 0.8391 - val_loss: 0.3983 - val_categorical_accuracy: 0.8756\n",
      "Epoch 30/100\n",
      "100/100 [==============================] - 11s 109ms/step - loss: 0.4658 - categorical_accuracy: 0.8409 - val_loss: 0.2854 - val_categorical_accuracy: 0.9331\n",
      "Epoch 31/100\n",
      "100/100 [==============================] - 22s 219ms/step - loss: 0.4631 - categorical_accuracy: 0.8363 - val_loss: 0.2416 - val_categorical_accuracy: 0.9437\n",
      "Epoch 32/100\n",
      "100/100 [==============================] - 27s 265ms/step - loss: 0.4625 - categorical_accuracy: 0.8384 - val_loss: 0.2475 - val_categorical_accuracy: 0.9331\n",
      "Epoch 33/100\n",
      "100/100 [==============================] - 31s 305ms/step - loss: 0.3960 - categorical_accuracy: 0.8550 - val_loss: 0.2880 - val_categorical_accuracy: 0.8994\n",
      "Epoch 34/100\n",
      "100/100 [==============================] - 11s 112ms/step - loss: 0.4278 - categorical_accuracy: 0.8538 - val_loss: 0.2413 - val_categorical_accuracy: 0.9344\n",
      "Epoch 35/100\n",
      "100/100 [==============================] - 11s 109ms/step - loss: 0.3965 - categorical_accuracy: 0.8531 - val_loss: 0.2628 - val_categorical_accuracy: 0.9163\n",
      "Epoch 36/100\n",
      "100/100 [==============================] - 11s 113ms/step - loss: 0.3930 - categorical_accuracy: 0.8678 - val_loss: 0.2472 - val_categorical_accuracy: 0.9250\n",
      "Epoch 37/100\n",
      "100/100 [==============================] - 11s 111ms/step - loss: 0.4008 - categorical_accuracy: 0.8669 - val_loss: 0.2678 - val_categorical_accuracy: 0.9200\n",
      "Epoch 38/100\n",
      "100/100 [==============================] - 12s 121ms/step - loss: 0.3892 - categorical_accuracy: 0.8659 - val_loss: 0.2011 - val_categorical_accuracy: 0.9225\n",
      "Epoch 39/100\n",
      "100/100 [==============================] - 11s 105ms/step - loss: 0.3774 - categorical_accuracy: 0.8678 - val_loss: 0.1911 - val_categorical_accuracy: 0.9475\n",
      "Epoch 40/100\n",
      "100/100 [==============================] - 11s 109ms/step - loss: 0.3606 - categorical_accuracy: 0.8798 - val_loss: 0.2458 - val_categorical_accuracy: 0.9113\n",
      "Epoch 41/100\n",
      "100/100 [==============================] - 11s 108ms/step - loss: 0.3395 - categorical_accuracy: 0.8800 - val_loss: 0.1771 - val_categorical_accuracy: 0.9731\n",
      "Epoch 42/100\n",
      "100/100 [==============================] - 11s 110ms/step - loss: 0.3322 - categorical_accuracy: 0.8934 - val_loss: 0.2647 - val_categorical_accuracy: 0.9144\n",
      "Epoch 43/100\n",
      "100/100 [==============================] - 10s 105ms/step - loss: 0.3258 - categorical_accuracy: 0.8900 - val_loss: 0.1541 - val_categorical_accuracy: 0.9669\n",
      "Epoch 44/100\n",
      "100/100 [==============================] - 11s 107ms/step - loss: 0.3291 - categorical_accuracy: 0.8841 - val_loss: 0.2323 - val_categorical_accuracy: 0.9275\n",
      "Epoch 45/100\n",
      "100/100 [==============================] - 11s 107ms/step - loss: 0.3153 - categorical_accuracy: 0.8900 - val_loss: 0.4252 - val_categorical_accuracy: 0.8187\n",
      "Epoch 46/100\n",
      "100/100 [==============================] - 11s 106ms/step - loss: 0.3242 - categorical_accuracy: 0.8863 - val_loss: 0.2219 - val_categorical_accuracy: 0.9106\n",
      "Epoch 47/100\n",
      "100/100 [==============================] - 10s 103ms/step - loss: 0.2898 - categorical_accuracy: 0.8989 - val_loss: 0.3162 - val_categorical_accuracy: 0.8712\n",
      "Epoch 48/100\n"
     ]
    },
    {
     "name": "stdout",
     "output_type": "stream",
     "text": [
      "100/100 [==============================] - 11s 105ms/step - loss: 0.2854 - categorical_accuracy: 0.8950 - val_loss: 0.2592 - val_categorical_accuracy: 0.9012\n",
      "Epoch 49/100\n",
      "100/100 [==============================] - 10s 103ms/step - loss: 0.2816 - categorical_accuracy: 0.8966 - val_loss: 0.1563 - val_categorical_accuracy: 0.9619\n",
      "Epoch 50/100\n",
      "100/100 [==============================] - 10s 104ms/step - loss: 0.3265 - categorical_accuracy: 0.8850 - val_loss: 0.2298 - val_categorical_accuracy: 0.9237\n",
      "Epoch 51/100\n",
      "100/100 [==============================] - 11s 108ms/step - loss: 0.2865 - categorical_accuracy: 0.8953 - val_loss: 0.1674 - val_categorical_accuracy: 0.9381\n",
      "Epoch 52/100\n",
      "100/100 [==============================] - 12s 116ms/step - loss: 0.2870 - categorical_accuracy: 0.8969 - val_loss: 0.2056 - val_categorical_accuracy: 0.9337\n",
      "Epoch 53/100\n",
      "100/100 [==============================] - 11s 113ms/step - loss: 0.2759 - categorical_accuracy: 0.9034 - val_loss: 0.3290 - val_categorical_accuracy: 0.8938\n",
      "Epoch 54/100\n",
      "100/100 [==============================] - 11s 108ms/step - loss: 0.2776 - categorical_accuracy: 0.9009 - val_loss: 0.3384 - val_categorical_accuracy: 0.8881\n",
      "Epoch 55/100\n",
      "100/100 [==============================] - 10s 105ms/step - loss: 0.2787 - categorical_accuracy: 0.9016 - val_loss: 0.1557 - val_categorical_accuracy: 0.9463\n",
      "Epoch 56/100\n",
      "100/100 [==============================] - 10s 104ms/step - loss: 0.2481 - categorical_accuracy: 0.9131 - val_loss: 0.2190 - val_categorical_accuracy: 0.9213\n",
      "Epoch 57/100\n",
      "100/100 [==============================] - 10s 104ms/step - loss: 0.3078 - categorical_accuracy: 0.8878 - val_loss: 0.1732 - val_categorical_accuracy: 0.9500\n",
      "Epoch 58/100\n",
      "100/100 [==============================] - 11s 105ms/step - loss: 0.2415 - categorical_accuracy: 0.9184 - val_loss: 0.2228 - val_categorical_accuracy: 0.9156\n",
      "Epoch 59/100\n",
      "100/100 [==============================] - 10s 104ms/step - loss: 0.2687 - categorical_accuracy: 0.9087 - val_loss: 0.2056 - val_categorical_accuracy: 0.9163\n",
      "Epoch 60/100\n",
      "100/100 [==============================] - 10s 105ms/step - loss: 0.2349 - categorical_accuracy: 0.9250 - val_loss: 0.2854 - val_categorical_accuracy: 0.8862\n",
      "Epoch 61/100\n",
      "100/100 [==============================] - 10s 105ms/step - loss: 0.2478 - categorical_accuracy: 0.9137 - val_loss: 0.2504 - val_categorical_accuracy: 0.8975\n",
      "Epoch 62/100\n",
      "100/100 [==============================] - 11s 105ms/step - loss: 0.2594 - categorical_accuracy: 0.9053 - val_loss: 0.1650 - val_categorical_accuracy: 0.9381\n",
      "Epoch 63/100\n",
      "100/100 [==============================] - 12s 116ms/step - loss: 0.2313 - categorical_accuracy: 0.9144 - val_loss: 0.2108 - val_categorical_accuracy: 0.9125\n",
      "Epoch 64/100\n",
      "100/100 [==============================] - 12s 119ms/step - loss: 0.2189 - categorical_accuracy: 0.9197 - val_loss: 0.1849 - val_categorical_accuracy: 0.9406\n",
      "Epoch 65/100\n",
      "100/100 [==============================] - 11s 111ms/step - loss: 0.2249 - categorical_accuracy: 0.9228 - val_loss: 0.2375 - val_categorical_accuracy: 0.8988\n",
      "Epoch 66/100\n",
      "100/100 [==============================] - 11s 109ms/step - loss: 0.2238 - categorical_accuracy: 0.9175 - val_loss: 0.2617 - val_categorical_accuracy: 0.8850\n",
      "Epoch 67/100\n",
      "100/100 [==============================] - 11s 107ms/step - loss: 0.2174 - categorical_accuracy: 0.9242 - val_loss: 0.1689 - val_categorical_accuracy: 0.9200\n",
      "Epoch 68/100\n",
      "100/100 [==============================] - 11s 105ms/step - loss: 0.2173 - categorical_accuracy: 0.9247 - val_loss: 0.1696 - val_categorical_accuracy: 0.9231\n",
      "Epoch 69/100\n",
      "100/100 [==============================] - 11s 109ms/step - loss: 0.2226 - categorical_accuracy: 0.9197 - val_loss: 0.1058 - val_categorical_accuracy: 0.9581\n",
      "Epoch 70/100\n",
      "100/100 [==============================] - 11s 110ms/step - loss: 0.2417 - categorical_accuracy: 0.9150 - val_loss: 0.2451 - val_categorical_accuracy: 0.8969s - l\n",
      "Epoch 71/100\n",
      "100/100 [==============================] - 11s 112ms/step - loss: 0.2368 - categorical_accuracy: 0.9172 - val_loss: 0.1703 - val_categorical_accuracy: 0.9281\n",
      "Epoch 72/100\n",
      "100/100 [==============================] - 12s 118ms/step - loss: 0.2247 - categorical_accuracy: 0.9150 - val_loss: 0.1099 - val_categorical_accuracy: 0.9719\n",
      "Epoch 73/100\n",
      "100/100 [==============================] - 12s 120ms/step - loss: 0.2112 - categorical_accuracy: 0.9289 - val_loss: 0.1484 - val_categorical_accuracy: 0.9650\n",
      "Epoch 74/100\n",
      "100/100 [==============================] - 11s 112ms/step - loss: 0.1965 - categorical_accuracy: 0.9291 - val_loss: 0.2087 - val_categorical_accuracy: 0.9194\n",
      "Epoch 75/100\n",
      "100/100 [==============================] - 11s 107ms/step - loss: 0.2098 - categorical_accuracy: 0.9262 - val_loss: 0.1348 - val_categorical_accuracy: 0.9400\n",
      "Epoch 76/100\n",
      "100/100 [==============================] - 12s 118ms/step - loss: 0.2004 - categorical_accuracy: 0.9269 - val_loss: 0.2028 - val_categorical_accuracy: 0.9225\n",
      "Epoch 77/100\n",
      "100/100 [==============================] - 11s 111ms/step - loss: 0.1797 - categorical_accuracy: 0.9316 - val_loss: 0.3534 - val_categorical_accuracy: 0.8381\n",
      "Epoch 78/100\n",
      "100/100 [==============================] - 12s 116ms/step - loss: 0.2200 - categorical_accuracy: 0.9172 - val_loss: 0.1576 - val_categorical_accuracy: 0.9331\n",
      "Epoch 79/100\n",
      "100/100 [==============================] - 12s 124ms/step - loss: 0.2007 - categorical_accuracy: 0.9281 - val_loss: 0.1188 - val_categorical_accuracy: 0.9706\n",
      "Epoch 80/100\n",
      "100/100 [==============================] - 13s 132ms/step - loss: 0.2031 - categorical_accuracy: 0.9278 - val_loss: 0.1567 - val_categorical_accuracy: 0.9481\n",
      "Epoch 81/100\n",
      "100/100 [==============================] - 11s 115ms/step - loss: 0.1874 - categorical_accuracy: 0.9262 - val_loss: 0.1797 - val_categorical_accuracy: 0.9225\n",
      "Epoch 82/100\n",
      "100/100 [==============================] - 11s 108ms/step - loss: 0.2076 - categorical_accuracy: 0.9215 - val_loss: 0.1489 - val_categorical_accuracy: 0.9400\n",
      "Epoch 83/100\n",
      "100/100 [==============================] - 11s 110ms/step - loss: 0.2088 - categorical_accuracy: 0.9209 - val_loss: 0.2325 - val_categorical_accuracy: 0.9137\n",
      "Epoch 84/100\n",
      "100/100 [==============================] - 11s 109ms/step - loss: 0.1779 - categorical_accuracy: 0.9375 - val_loss: 0.1618 - val_categorical_accuracy: 0.9313\n",
      "Epoch 85/100\n",
      "100/100 [==============================] - 11s 111ms/step - loss: 0.1608 - categorical_accuracy: 0.9506 - val_loss: 0.3195 - val_categorical_accuracy: 0.8575\n",
      "Epoch 86/100\n",
      "100/100 [==============================] - 11s 111ms/step - loss: 0.1578 - categorical_accuracy: 0.9456 - val_loss: 0.1471 - val_categorical_accuracy: 0.9344\n",
      "Epoch 87/100\n",
      "100/100 [==============================] - 13s 132ms/step - loss: 0.1775 - categorical_accuracy: 0.9353 - val_loss: 0.1462 - val_categorical_accuracy: 0.9363\n",
      "Epoch 88/100\n",
      "100/100 [==============================] - 12s 123ms/step - loss: 0.2054 - categorical_accuracy: 0.9241 - val_loss: 0.1054 - val_categorical_accuracy: 0.9825\n",
      "Epoch 89/100\n",
      "100/100 [==============================] - 11s 107ms/step - loss: 0.1708 - categorical_accuracy: 0.9353 - val_loss: 0.1432 - val_categorical_accuracy: 0.9525\n",
      "Epoch 90/100\n",
      "100/100 [==============================] - 11s 109ms/step - loss: 0.1579 - categorical_accuracy: 0.9469 - val_loss: 0.1141 - val_categorical_accuracy: 0.9625\n",
      "Epoch 91/100\n",
      "100/100 [==============================] - 11s 112ms/step - loss: 0.1660 - categorical_accuracy: 0.9412 - val_loss: 0.2271 - val_categorical_accuracy: 0.8919\n",
      "Epoch 92/100\n",
      "100/100 [==============================] - 11s 112ms/step - loss: 0.1659 - categorical_accuracy: 0.9375 - val_loss: 0.1806 - val_categorical_accuracy: 0.9306\n",
      "Epoch 93/100\n",
      "100/100 [==============================] - 11s 107ms/step - loss: 0.1419 - categorical_accuracy: 0.9469 - val_loss: 0.1844 - val_categorical_accuracy: 0.9181\n",
      "Epoch 94/100\n",
      "100/100 [==============================] - 11s 111ms/step - loss: 0.1687 - categorical_accuracy: 0.9363 - val_loss: 0.1837 - val_categorical_accuracy: 0.9294\n",
      "Epoch 95/100\n",
      "100/100 [==============================] - 11s 108ms/step - loss: 0.1799 - categorical_accuracy: 0.9375 - val_loss: 0.2147 - val_categorical_accuracy: 0.9306\n"
     ]
    },
    {
     "name": "stdout",
     "output_type": "stream",
     "text": [
      "Epoch 96/100\n",
      "100/100 [==============================] - 10s 105ms/step - loss: 0.1681 - categorical_accuracy: 0.9378 - val_loss: 0.1039 - val_categorical_accuracy: 0.9569\n",
      "Epoch 97/100\n",
      "100/100 [==============================] - 11s 111ms/step - loss: 0.1606 - categorical_accuracy: 0.9441 - val_loss: 0.2181 - val_categorical_accuracy: 0.9237\n",
      "Epoch 98/100\n",
      "100/100 [==============================] - 11s 110ms/step - loss: 0.1573 - categorical_accuracy: 0.9434 - val_loss: 0.1974 - val_categorical_accuracy: 0.9244\n",
      "Epoch 99/100\n",
      "100/100 [==============================] - 11s 106ms/step - loss: 0.1790 - categorical_accuracy: 0.9381 - val_loss: 0.1506 - val_categorical_accuracy: 0.9481\n",
      "Epoch 100/100\n",
      "100/100 [==============================] - 11s 109ms/step - loss: 0.1702 - categorical_accuracy: 0.9356 - val_loss: 0.2145 - val_categorical_accuracy: 0.9156\n"
     ]
    }
   ],
   "source": [
    "train_datagen = ImageDataGenerator(\n",
    "    rescale=1./255,\n",
    "    rotation_range=40,\n",
    "    width_shift_range=0.2,\n",
    "    height_shift_range=0.2,\n",
    "    shear_range=0.2,\n",
    "    zoom_range=0.2,\n",
    "    horizontal_flip=True,)\n",
    "\n",
    "# Note that the validation data should not be augmented!\n",
    "test_datagen = ImageDataGenerator(rescale=1./255)\n",
    "\n",
    "train_generator = train_datagen.flow_from_directory(\n",
    "        # This is the target directory\n",
    "        train_dir,\n",
    "        # All images will be resized to 150x150\n",
    "        target_size=(100, 100),\n",
    "        batch_size=32)\n",
    "\n",
    "validation_generator = test_datagen.flow_from_directory(\n",
    "        validation_dir,\n",
    "        target_size=(100, 100),\n",
    "        batch_size=32, shuffle=False)\n",
    "\n",
    "history = model.fit_generator(\n",
    "      train_generator,\n",
    "      steps_per_epoch=100,\n",
    "      epochs=100,\n",
    "      validation_data=validation_generator,\n",
    "      validation_steps=50)"
   ]
  },
  {
   "cell_type": "code",
   "execution_count": 8,
   "metadata": {},
   "outputs": [],
   "source": [
    "import matplotlib.pyplot as plt"
   ]
  },
  {
   "cell_type": "code",
   "execution_count": 9,
   "metadata": {},
   "outputs": [
    {
     "data": {
      "image/png": "[encoded data removed]",
      "text/plain": [
       "<Figure size 432x288 with 1 Axes>"
      ]
     },
     "metadata": {},
     "output_type": "display_data"
    },
    {
     "data": {
      "image/png": "[encoded data removed]",
      "text/plain": [
       "<Figure size 432x288 with 1 Axes>"
      ]
     },
     "metadata": {},
     "output_type": "display_data"
    }
   ],
   "source": [
    "acc=history.history['categorical_accuracy']\n",
    "val_acc=history.history['val_categorical_accuracy']\n",
    "loss=history.history['loss']\n",
    "val_loss=history.history['val_loss']\n",
    "epochs=range(1,len(acc)+1)\n",
    "plt.xlabel('Epochs')\n",
    "plt.ylabel('Accuracy')\n",
    "plt.plot(epochs, acc, 'bo', label='Training acc')\n",
    "plt.plot(epochs, val_acc, 'b', label='Validation acc')\n",
    "plt.title('Training and validation accuracy')\n",
    "plt.legend()\n",
    "plt.savefig('fruit_images_classification_using data augmentation4a',format='png')\n",
    "plt.figure()\n",
    "\n",
    "plt.plot(epochs, loss, 'bo', label='Training loss')\n",
    "plt.plot(epochs, val_loss, 'b', label='Validation loss')\n",
    "plt.title('Training and validation loss')\n",
    "plt.xlabel('Epochs')\n",
    "plt.ylabel('Loss')\n",
    "plt.legend()\n",
    "plt.savefig('fruit_images_classification_using data augmentation4b',format='png')\n",
    "plt.show()"
   ]
  },
  {
   "cell_type": "code",
   "execution_count": 10,
   "metadata": {},
   "outputs": [],
   "source": [
    "steps_test=12132/32"
   ]
  },
  {
   "cell_type": "code",
   "execution_count": 11,
   "metadata": {},
   "outputs": [
    {
     "name": "stdout",
     "output_type": "stream",
     "text": [
      "379.125\n"
     ]
    }
   ],
   "source": [
    "print(steps_test)"
   ]
  },
  {
   "cell_type": "code",
   "execution_count": 13,
   "metadata": {},
   "outputs": [
    {
     "name": "stdout",
     "output_type": "stream",
     "text": [
      "Test-set classification accuracy: 94.86%\n"
     ]
    }
   ],
   "source": [
    "result = model.evaluate_generator(validation_generator, steps=steps_test)\n",
    "print(\"Test-set classification accuracy: {0:.2%}\".format(result[1]))"
   ]
  },
  {
   "cell_type": "code",
   "execution_count": null,
   "metadata": {},
   "outputs": [],
   "source": []
  }
 ],
 "metadata": {
  "kernelspec": {
   "display_name": "Python 3",
   "language": "python",
   "name": "python3"
  },
  "language_info": {
   "codemirror_mode": {
    "name": "ipython",
    "version": 3
   },
   "file_extension": ".py",
   "mimetype": "text/x-python",
   "name": "python",
   "nbconvert_exporter": "python",
   "pygments_lexer": "ipython3",
   "version": "3.5.5"
  }
 },
 "nbformat": 4,
 "nbformat_minor": 2
}
