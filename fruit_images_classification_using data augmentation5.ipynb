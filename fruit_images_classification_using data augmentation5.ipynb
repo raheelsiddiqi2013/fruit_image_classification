{
 "cells": [
  {
   "cell_type": "code",
   "execution_count": 1,
   "metadata": {},
   "outputs": [],
   "source": [
    "from tensorflow.python.keras.preprocessing.image import ImageDataGenerator \n",
    "import os"
   ]
  },
  {
   "cell_type": "code",
   "execution_count": 2,
   "metadata": {},
   "outputs": [],
   "source": [
    "train_dir='C:\\\\Users\\\\Raheel\\\\fruits_classification\\\\fruits-360_dataset\\\\fruits-360\\\\Training'"
   ]
  },
  {
   "cell_type": "code",
   "execution_count": 3,
   "metadata": {},
   "outputs": [],
   "source": [
    "validation_dir='C:\\\\Users\\\\Raheel\\\\fruits_classification\\\\fruits-360_dataset\\\\fruits-360\\\\Test'"
   ]
  },
  {
   "cell_type": "code",
   "execution_count": 4,
   "metadata": {},
   "outputs": [],
   "source": [
    "from tensorflow.python.keras import models\n",
    "from tensorflow.python.keras import layers\n",
    "from tensorflow.python.keras.applications import VGG16"
   ]
  },
  {
   "cell_type": "code",
   "execution_count": 5,
   "metadata": {},
   "outputs": [],
   "source": [
    "model=models.Sequential()\n",
    "model.add(layers.Conv2D(32,(3,3),activation='relu',input_shape=(100,100,3)))\n",
    "model.add(layers.MaxPooling2D((2,2)))\n",
    "model.add(layers.Conv2D(64,(3,3),activation='relu'))\n",
    "model.add(layers.MaxPooling2D((2,2)))\n",
    "model.add(layers.Conv2D(128,(3,3),activation='relu'))\n",
    "model.add(layers.MaxPooling2D((2,2)))\n",
    "model.add(layers.Conv2D(128,(3,3),activation='relu'))\n",
    "model.add(layers.MaxPooling2D((2,2)))\n",
    "model.add(layers.Flatten())\n",
    "model.add(layers.Dropout(0.5))\n",
    "model.add(layers.Dense(1024,activation='relu'))\n",
    "model.add(layers.Dense(72,activation='softmax'))"
   ]
  },
  {
   "cell_type": "code",
   "execution_count": 6,
   "metadata": {},
   "outputs": [],
   "source": [
    "from tensorflow.python.keras import optimizers\n",
    "\n",
    "model.compile(loss='categorical_crossentropy',optimizer=optimizers.Adam(lr=1e-4),metrics=['categorical_accuracy'])"
   ]
  },
  {
   "cell_type": "code",
   "execution_count": 7,
   "metadata": {},
   "outputs": [
    {
     "name": "stdout",
     "output_type": "stream",
     "text": [
      "Found 36117 images belonging to 72 classes.\n",
      "Found 12132 images belonging to 72 classes.\n",
      "Epoch 1/100\n",
      "100/100 [==============================] - 21s 215ms/step - loss: 4.2521 - categorical_accuracy: 0.0275 - val_loss: 4.2476 - val_categorical_accuracy: 0.0000e+00\n",
      "Epoch 2/100\n",
      "100/100 [==============================] - 13s 133ms/step - loss: 3.5663 - categorical_accuracy: 0.0962 - val_loss: 3.1217 - val_categorical_accuracy: 0.1806\n",
      "Epoch 3/100\n",
      "100/100 [==============================] - 11s 114ms/step - loss: 2.7470 - categorical_accuracy: 0.1916 - val_loss: 2.7852 - val_categorical_accuracy: 0.1731\n",
      "Epoch 4/100\n",
      "100/100 [==============================] - 12s 119ms/step - loss: 2.4287 - categorical_accuracy: 0.2656 - val_loss: 2.2482 - val_categorical_accuracy: 0.4338\n",
      "Epoch 5/100\n",
      "100/100 [==============================] - 13s 126ms/step - loss: 2.1423 - categorical_accuracy: 0.3372 - val_loss: 2.2562 - val_categorical_accuracy: 0.3050\n",
      "Epoch 6/100\n",
      "100/100 [==============================] - 12s 116ms/step - loss: 1.8417 - categorical_accuracy: 0.4244 - val_loss: 1.6949 - val_categorical_accuracy: 0.5344\n",
      "Epoch 7/100\n",
      "100/100 [==============================] - 11s 114ms/step - loss: 1.6277 - categorical_accuracy: 0.4978 - val_loss: 1.3621 - val_categorical_accuracy: 0.5787\n",
      "Epoch 8/100\n",
      "100/100 [==============================] - 11s 112ms/step - loss: 1.4003 - categorical_accuracy: 0.5444 - val_loss: 1.3448 - val_categorical_accuracy: 0.5275\n",
      "Epoch 9/100\n",
      "100/100 [==============================] - 11s 112ms/step - loss: 1.2771 - categorical_accuracy: 0.5831 - val_loss: 0.9423 - val_categorical_accuracy: 0.7694\n",
      "Epoch 10/100\n",
      "100/100 [==============================] - 11s 112ms/step - loss: 1.1922 - categorical_accuracy: 0.6128 - val_loss: 1.0105 - val_categorical_accuracy: 0.7512\n",
      "Epoch 11/100\n",
      "100/100 [==============================] - 12s 121ms/step - loss: 1.0265 - categorical_accuracy: 0.6607 - val_loss: 0.8893 - val_categorical_accuracy: 0.7175\n",
      "Epoch 12/100\n",
      "100/100 [==============================] - 13s 129ms/step - loss: 1.0463 - categorical_accuracy: 0.6534 - val_loss: 0.7618 - val_categorical_accuracy: 0.7937\n",
      "Epoch 13/100\n",
      "100/100 [==============================] - 13s 130ms/step - loss: 0.9284 - categorical_accuracy: 0.6958 - val_loss: 0.8579 - val_categorical_accuracy: 0.7431\n",
      "Epoch 14/100\n",
      "100/100 [==============================] - 13s 129ms/step - loss: 0.8529 - categorical_accuracy: 0.7178 - val_loss: 0.6102 - val_categorical_accuracy: 0.8231\n",
      "Epoch 15/100\n",
      "100/100 [==============================] - 13s 126ms/step - loss: 0.8311 - categorical_accuracy: 0.7325 - val_loss: 0.7721 - val_categorical_accuracy: 0.7019\n",
      "Epoch 16/100\n",
      "100/100 [==============================] - 13s 132ms/step - loss: 0.7698 - categorical_accuracy: 0.7391 - val_loss: 0.5315 - val_categorical_accuracy: 0.8794\n",
      "Epoch 17/100\n",
      "100/100 [==============================] - 13s 133ms/step - loss: 0.7609 - categorical_accuracy: 0.7447 - val_loss: 0.7112 - val_categorical_accuracy: 0.7981\n",
      "Epoch 18/100\n",
      "100/100 [==============================] - 13s 133ms/step - loss: 0.6664 - categorical_accuracy: 0.7734 - val_loss: 0.4191 - val_categorical_accuracy: 0.8950\n",
      "Epoch 19/100\n",
      "100/100 [==============================] - 13s 127ms/step - loss: 0.6698 - categorical_accuracy: 0.7687 - val_loss: 0.4324 - val_categorical_accuracy: 0.8856\n",
      "Epoch 20/100\n",
      "100/100 [==============================] - 13s 132ms/step - loss: 0.6405 - categorical_accuracy: 0.7859 - val_loss: 0.4133 - val_categorical_accuracy: 0.8750\n",
      "Epoch 21/100\n",
      "100/100 [==============================] - 13s 129ms/step - loss: 0.6092 - categorical_accuracy: 0.7869 - val_loss: 0.4006 - val_categorical_accuracy: 0.8650\n",
      "Epoch 22/100\n",
      "100/100 [==============================] - 12s 116ms/step - loss: 0.5871 - categorical_accuracy: 0.7966 - val_loss: 0.3594 - val_categorical_accuracy: 0.8788\n",
      "Epoch 23/100\n",
      "100/100 [==============================] - 11s 107ms/step - loss: 0.5439 - categorical_accuracy: 0.8237 - val_loss: 0.3987 - val_categorical_accuracy: 0.9006\n",
      "Epoch 24/100\n",
      "100/100 [==============================] - 10s 104ms/step - loss: 0.5459 - categorical_accuracy: 0.8169 - val_loss: 0.4464 - val_categorical_accuracy: 0.8581 categorica\n",
      "Epoch 25/100\n",
      "100/100 [==============================] - 11s 109ms/step - loss: 0.5268 - categorical_accuracy: 0.8278 - val_loss: 0.2939 - val_categorical_accuracy: 0.9425\n",
      "Epoch 26/100\n",
      "100/100 [==============================] - 10s 104ms/step - loss: 0.5119 - categorical_accuracy: 0.8281 - val_loss: 0.3548 - val_categorical_accuracy: 0.8919\n",
      "Epoch 27/100\n",
      "100/100 [==============================] - 10s 104ms/step - loss: 0.4715 - categorical_accuracy: 0.8394 - val_loss: 0.4025 - val_categorical_accuracy: 0.8700\n",
      "Epoch 28/100\n",
      "100/100 [==============================] - 10s 104ms/step - loss: 0.4745 - categorical_accuracy: 0.8378 - val_loss: 0.2685 - val_categorical_accuracy: 0.9406\n",
      "Epoch 29/100\n",
      "100/100 [==============================] - 10s 105ms/step - loss: 0.4605 - categorical_accuracy: 0.8425 - val_loss: 0.3734 - val_categorical_accuracy: 0.8738\n",
      "Epoch 30/100\n",
      "100/100 [==============================] - 10s 104ms/step - loss: 0.4458 - categorical_accuracy: 0.8459 - val_loss: 0.2656 - val_categorical_accuracy: 0.9363\n",
      "Epoch 31/100\n",
      "100/100 [==============================] - 11s 106ms/step - loss: 0.4734 - categorical_accuracy: 0.8400 - val_loss: 0.3281 - val_categorical_accuracy: 0.8894\n",
      "Epoch 32/100\n",
      "100/100 [==============================] - 11s 106ms/step - loss: 0.4182 - categorical_accuracy: 0.8612 - val_loss: 0.2949 - val_categorical_accuracy: 0.9156\n",
      "Epoch 33/100\n",
      "100/100 [==============================] - 10s 102ms/step - loss: 0.4313 - categorical_accuracy: 0.8528 - val_loss: 0.4051 - val_categorical_accuracy: 0.8469\n",
      "Epoch 34/100\n",
      "100/100 [==============================] - 11s 106ms/step - loss: 0.4318 - categorical_accuracy: 0.8438 - val_loss: 0.3959 - val_categorical_accuracy: 0.8525\n",
      "Epoch 35/100\n",
      "100/100 [==============================] - 11s 114ms/step - loss: 0.3740 - categorical_accuracy: 0.8691 - val_loss: 0.3482 - val_categorical_accuracy: 0.8675\n",
      "Epoch 36/100\n",
      "100/100 [==============================] - 11s 111ms/step - loss: 0.3855 - categorical_accuracy: 0.8700 - val_loss: 0.2123 - val_categorical_accuracy: 0.9406\n",
      "Epoch 37/100\n",
      "100/100 [==============================] - 14s 136ms/step - loss: 0.3848 - categorical_accuracy: 0.8666 - val_loss: 0.2056 - val_categorical_accuracy: 0.9369\n",
      "Epoch 38/100\n",
      "100/100 [==============================] - 15s 153ms/step - loss: 0.3807 - categorical_accuracy: 0.8781 - val_loss: 0.1564 - val_categorical_accuracy: 0.9631\n",
      "Epoch 39/100\n",
      "100/100 [==============================] - 16s 162ms/step - loss: 0.3666 - categorical_accuracy: 0.8684 - val_loss: 0.2047 - val_categorical_accuracy: 0.9519\n",
      "Epoch 40/100\n",
      "100/100 [==============================] - 13s 132ms/step - loss: 0.3080 - categorical_accuracy: 0.8925 - val_loss: 0.3205 - val_categorical_accuracy: 0.8744\n",
      "Epoch 41/100\n",
      "100/100 [==============================] - 12s 119ms/step - loss: 0.3622 - categorical_accuracy: 0.8713 - val_loss: 0.2345 - val_categorical_accuracy: 0.9050\n",
      "Epoch 42/100\n",
      "100/100 [==============================] - 12s 118ms/step - loss: 0.3087 - categorical_accuracy: 0.8966 - val_loss: 0.1607 - val_categorical_accuracy: 0.9663\n",
      "Epoch 43/100\n",
      "100/100 [==============================] - 12s 117ms/step - loss: 0.3242 - categorical_accuracy: 0.8811 - val_loss: 0.2641 - val_categorical_accuracy: 0.9100\n",
      "Epoch 44/100\n",
      "100/100 [==============================] - 12s 118ms/step - loss: 0.3173 - categorical_accuracy: 0.8866 - val_loss: 0.1409 - val_categorical_accuracy: 0.9794\n",
      "Epoch 45/100\n",
      "100/100 [==============================] - 12s 120ms/step - loss: 0.3140 - categorical_accuracy: 0.8903 - val_loss: 0.4852 - val_categorical_accuracy: 0.8206\n",
      "Epoch 46/100\n",
      "100/100 [==============================] - 13s 127ms/step - loss: 0.3259 - categorical_accuracy: 0.8841 - val_loss: 0.2127 - val_categorical_accuracy: 0.9350\n",
      "Epoch 47/100\n",
      "100/100 [==============================] - 12s 120ms/step - loss: 0.2895 - categorical_accuracy: 0.9025 - val_loss: 0.2463 - val_categorical_accuracy: 0.9194\n",
      "Epoch 48/100\n"
     ]
    },
    {
     "name": "stdout",
     "output_type": "stream",
     "text": [
      "100/100 [==============================] - 12s 116ms/step - loss: 0.3144 - categorical_accuracy: 0.8900 - val_loss: 0.2465 - val_categorical_accuracy: 0.9050\n",
      "Epoch 49/100\n",
      "100/100 [==============================] - 12s 116ms/step - loss: 0.2892 - categorical_accuracy: 0.8991 - val_loss: 0.2651 - val_categorical_accuracy: 0.9100\n",
      "Epoch 50/100\n",
      "100/100 [==============================] - 13s 127ms/step - loss: 0.3094 - categorical_accuracy: 0.8928 - val_loss: 0.1889 - val_categorical_accuracy: 0.9381\n",
      "Epoch 51/100\n",
      "100/100 [==============================] - 13s 134ms/step - loss: 0.2779 - categorical_accuracy: 0.8994 - val_loss: 0.3092 - val_categorical_accuracy: 0.8594\n",
      "Epoch 52/100\n",
      "100/100 [==============================] - 13s 130ms/step - loss: 0.2594 - categorical_accuracy: 0.9094 - val_loss: 0.1241 - val_categorical_accuracy: 0.9644\n",
      "Epoch 53/100\n",
      "100/100 [==============================] - 13s 133ms/step - loss: 0.2634 - categorical_accuracy: 0.9084 - val_loss: 0.3041 - val_categorical_accuracy: 0.8794\n",
      "Epoch 54/100\n",
      "100/100 [==============================] - 11s 109ms/step - loss: 0.2626 - categorical_accuracy: 0.9087 - val_loss: 0.1777 - val_categorical_accuracy: 0.9281\n",
      "Epoch 55/100\n",
      "100/100 [==============================] - 11s 107ms/step - loss: 0.2794 - categorical_accuracy: 0.9047 - val_loss: 0.1673 - val_categorical_accuracy: 0.9325\n",
      "Epoch 56/100\n",
      "100/100 [==============================] - 11s 105ms/step - loss: 0.2622 - categorical_accuracy: 0.9116 - val_loss: 0.2300 - val_categorical_accuracy: 0.9062\n",
      "Epoch 57/100\n",
      "100/100 [==============================] - 10s 104ms/step - loss: 0.2337 - categorical_accuracy: 0.9197 - val_loss: 0.2487 - val_categorical_accuracy: 0.8894\n",
      "Epoch 58/100\n",
      "100/100 [==============================] - 10s 103ms/step - loss: 0.2601 - categorical_accuracy: 0.9025 - val_loss: 0.1969 - val_categorical_accuracy: 0.9294\n",
      "Epoch 59/100\n",
      "100/100 [==============================] - 11s 107ms/step - loss: 0.2611 - categorical_accuracy: 0.9091 - val_loss: 0.1718 - val_categorical_accuracy: 0.9413\n",
      "Epoch 60/100\n",
      "100/100 [==============================] - 10s 105ms/step - loss: 0.2244 - categorical_accuracy: 0.9222 - val_loss: 0.2104 - val_categorical_accuracy: 0.9456\n",
      "Epoch 61/100\n",
      "100/100 [==============================] - 10s 103ms/step - loss: 0.2146 - categorical_accuracy: 0.9250 - val_loss: 0.1588 - val_categorical_accuracy: 0.9425\n",
      "Epoch 62/100\n",
      "100/100 [==============================] - 11s 107ms/step - loss: 0.2506 - categorical_accuracy: 0.9191 - val_loss: 0.2340 - val_categorical_accuracy: 0.9056\n",
      "Epoch 63/100\n",
      "100/100 [==============================] - 10s 105ms/step - loss: 0.2123 - categorical_accuracy: 0.9250 - val_loss: 0.1555 - val_categorical_accuracy: 0.9650\n",
      "Epoch 64/100\n",
      "100/100 [==============================] - 10s 102ms/step - loss: 0.2300 - categorical_accuracy: 0.9203 - val_loss: 0.1529 - val_categorical_accuracy: 0.9313\n",
      "Epoch 65/100\n",
      "100/100 [==============================] - 11s 106ms/step - loss: 0.2150 - categorical_accuracy: 0.9231 - val_loss: 0.1128 - val_categorical_accuracy: 0.9669\n",
      "Epoch 66/100\n",
      "100/100 [==============================] - 10s 104ms/step - loss: 0.2127 - categorical_accuracy: 0.9262 - val_loss: 0.1540 - val_categorical_accuracy: 0.9306\n",
      "Epoch 67/100\n",
      "100/100 [==============================] - 10s 102ms/step - loss: 0.2239 - categorical_accuracy: 0.9237 - val_loss: 0.2156 - val_categorical_accuracy: 0.9031\n",
      "Epoch 68/100\n",
      "100/100 [==============================] - 10s 104ms/step - loss: 0.2046 - categorical_accuracy: 0.9253 - val_loss: 0.2586 - val_categorical_accuracy: 0.8719\n",
      "Epoch 69/100\n",
      "100/100 [==============================] - 10s 104ms/step - loss: 0.2288 - categorical_accuracy: 0.9200 - val_loss: 0.0975 - val_categorical_accuracy: 0.9850\n",
      "Epoch 70/100\n",
      "100/100 [==============================] - 10s 103ms/step - loss: 0.1986 - categorical_accuracy: 0.9338 - val_loss: 0.0738 - val_categorical_accuracy: 0.9912ss: 0.2036 - categorical_accu - ETA: \n",
      "Epoch 71/100\n",
      "100/100 [==============================] - 10s 103ms/step - loss: 0.2061 - categorical_accuracy: 0.9194 - val_loss: 0.2662 - val_categorical_accuracy: 0.8862\n",
      "Epoch 72/100\n",
      "100/100 [==============================] - 10s 102ms/step - loss: 0.1941 - categorical_accuracy: 0.9294 - val_loss: 0.1661 - val_categorical_accuracy: 0.9256\n",
      "Epoch 73/100\n",
      "100/100 [==============================] - 12s 118ms/step - loss: 0.1979 - categorical_accuracy: 0.9325 - val_loss: 0.1399 - val_categorical_accuracy: 0.9756\n",
      "Epoch 74/100\n",
      "100/100 [==============================] - 12s 117ms/step - loss: 0.2211 - categorical_accuracy: 0.9211 - val_loss: 0.1763 - val_categorical_accuracy: 0.9144\n",
      "Epoch 75/100\n",
      "100/100 [==============================] - 12s 120ms/step - loss: 0.1954 - categorical_accuracy: 0.9325 - val_loss: 0.1566 - val_categorical_accuracy: 0.9469\n",
      "Epoch 76/100\n",
      "100/100 [==============================] - 13s 127ms/step - loss: 0.1810 - categorical_accuracy: 0.9353 - val_loss: 0.1821 - val_categorical_accuracy: 0.9194\n",
      "Epoch 77/100\n",
      "100/100 [==============================] - 13s 129ms/step - loss: 0.2102 - categorical_accuracy: 0.9213 - val_loss: 0.1154 - val_categorical_accuracy: 0.9587\n",
      "Epoch 78/100\n",
      "100/100 [==============================] - 11s 108ms/step - loss: 0.2087 - categorical_accuracy: 0.9206 - val_loss: 0.0816 - val_categorical_accuracy: 0.9919\n",
      "Epoch 79/100\n",
      "100/100 [==============================] - 13s 127ms/step - loss: 0.1870 - categorical_accuracy: 0.9344 - val_loss: 0.0626 - val_categorical_accuracy: 0.9919\n",
      "Epoch 80/100\n",
      "100/100 [==============================] - 15s 149ms/step - loss: 0.1803 - categorical_accuracy: 0.9331 - val_loss: 0.1637 - val_categorical_accuracy: 0.9281\n",
      "Epoch 81/100\n",
      "100/100 [==============================] - 14s 144ms/step - loss: 0.1888 - categorical_accuracy: 0.9341 - val_loss: 0.1139 - val_categorical_accuracy: 0.9800\n",
      "Epoch 82/100\n",
      "100/100 [==============================] - 16s 156ms/step - loss: 0.1991 - categorical_accuracy: 0.9309 - val_loss: 0.1711 - val_categorical_accuracy: 0.9581\n",
      "Epoch 83/100\n",
      "100/100 [==============================] - 13s 128ms/step - loss: 0.1685 - categorical_accuracy: 0.9428 - val_loss: 0.2218 - val_categorical_accuracy: 0.9444\n",
      "Epoch 84/100\n",
      "100/100 [==============================] - 12s 124ms/step - loss: 0.1626 - categorical_accuracy: 0.9431 - val_loss: 0.1690 - val_categorical_accuracy: 0.9381\n",
      "Epoch 85/100\n",
      "100/100 [==============================] - 12s 119ms/step - loss: 0.1830 - categorical_accuracy: 0.9338 - val_loss: 0.1669 - val_categorical_accuracy: 0.9287\n",
      "Epoch 86/100\n",
      "100/100 [==============================] - 12s 119ms/step - loss: 0.1858 - categorical_accuracy: 0.9322 - val_loss: 0.1148 - val_categorical_accuracy: 0.9537\n",
      "Epoch 87/100\n",
      "100/100 [==============================] - 12s 124ms/step - loss: 0.1851 - categorical_accuracy: 0.9397 - val_loss: 0.2083 - val_categorical_accuracy: 0.9375\n",
      "Epoch 88/100\n",
      "100/100 [==============================] - 12s 125ms/step - loss: 0.1910 - categorical_accuracy: 0.9316 - val_loss: 0.2115 - val_categorical_accuracy: 0.9331\n",
      "Epoch 89/100\n",
      "100/100 [==============================] - 12s 121ms/step - loss: 0.1729 - categorical_accuracy: 0.9369 - val_loss: 0.1801 - val_categorical_accuracy: 0.9525\n",
      "Epoch 90/100\n",
      "100/100 [==============================] - 12s 121ms/step - loss: 0.1812 - categorical_accuracy: 0.9309 - val_loss: 0.1187 - val_categorical_accuracy: 0.9500\n",
      "Epoch 91/100\n",
      "100/100 [==============================] - 12s 120ms/step - loss: 0.1517 - categorical_accuracy: 0.9453 - val_loss: 0.1121 - val_categorical_accuracy: 0.9556\n",
      "Epoch 92/100\n",
      "100/100 [==============================] - 12s 119ms/step - loss: 0.1656 - categorical_accuracy: 0.9428 - val_loss: 0.1437 - val_categorical_accuracy: 0.9306\n",
      "Epoch 93/100\n",
      "100/100 [==============================] - 12s 118ms/step - loss: 0.1665 - categorical_accuracy: 0.9412 - val_loss: 0.0717 - val_categorical_accuracy: 0.9806\n",
      "Epoch 94/100\n",
      "100/100 [==============================] - 12s 119ms/step - loss: 0.1827 - categorical_accuracy: 0.9363 - val_loss: 0.2631 - val_categorical_accuracy: 0.8800\n",
      "Epoch 95/100\n",
      "100/100 [==============================] - 12s 117ms/step - loss: 0.1631 - categorical_accuracy: 0.9411 - val_loss: 0.2619 - val_categorical_accuracy: 0.8825\n"
     ]
    },
    {
     "name": "stdout",
     "output_type": "stream",
     "text": [
      "Epoch 96/100\n",
      "100/100 [==============================] - 12s 122ms/step - loss: 0.1566 - categorical_accuracy: 0.9434 - val_loss: 0.1691 - val_categorical_accuracy: 0.9400\n",
      "Epoch 97/100\n",
      "100/100 [==============================] - 12s 120ms/step - loss: 0.1702 - categorical_accuracy: 0.9387 - val_loss: 0.0659 - val_categorical_accuracy: 0.9856\n",
      "Epoch 98/100\n",
      "100/100 [==============================] - 12s 116ms/step - loss: 0.1569 - categorical_accuracy: 0.9437 - val_loss: 0.0894 - val_categorical_accuracy: 0.9669\n",
      "Epoch 99/100\n",
      "100/100 [==============================] - 11s 114ms/step - loss: 0.1554 - categorical_accuracy: 0.9428 - val_loss: 0.2556 - val_categorical_accuracy: 0.8881\n",
      "Epoch 100/100\n",
      "100/100 [==============================] - 12s 118ms/step - loss: 0.1377 - categorical_accuracy: 0.9500 - val_loss: 0.2169 - val_categorical_accuracy: 0.9056\n"
     ]
    }
   ],
   "source": [
    "train_datagen = ImageDataGenerator(\n",
    "    rescale=1./255,\n",
    "    rotation_range=40,\n",
    "    width_shift_range=0.2,\n",
    "    height_shift_range=0.2,\n",
    "    shear_range=0.2,\n",
    "    zoom_range=0.2,\n",
    "    horizontal_flip=True,)\n",
    "\n",
    "# Note that the validation data should not be augmented!\n",
    "test_datagen = ImageDataGenerator(rescale=1./255)\n",
    "\n",
    "train_generator = train_datagen.flow_from_directory(\n",
    "        # This is the target directory\n",
    "        train_dir,\n",
    "        # All images will be resized to 150x150\n",
    "        target_size=(100, 100),\n",
    "        batch_size=32)\n",
    "\n",
    "validation_generator = test_datagen.flow_from_directory(\n",
    "        validation_dir,\n",
    "        target_size=(100, 100),\n",
    "        batch_size=32, shuffle=False)\n",
    "\n",
    "history = model.fit_generator(\n",
    "      train_generator,\n",
    "      steps_per_epoch=100,\n",
    "      epochs=100,\n",
    "      validation_data=validation_generator,\n",
    "      validation_steps=50)"
   ]
  },
  {
   "cell_type": "code",
   "execution_count": 8,
   "metadata": {},
   "outputs": [],
   "source": [
    "import matplotlib.pyplot as plt"
   ]
  },
  {
   "cell_type": "code",
   "execution_count": 13,
   "metadata": {},
   "outputs": [
    {
     "data": {
      "image/png": "[encoded data removed]",
      "text/plain": [
       "<Figure size 432x288 with 1 Axes>"
      ]
     },
     "metadata": {},
     "output_type": "display_data"
    },
    {
     "data": {
      "image/png": "[encoded data removed]",
      "text/plain": [
       "<Figure size 432x288 with 1 Axes>"
      ]
     },
     "metadata": {},
     "output_type": "display_data"
    }
   ],
   "source": [
    "acc=history.history['categorical_accuracy']\n",
    "val_acc=history.history['val_categorical_accuracy']\n",
    "loss=history.history['loss']\n",
    "val_loss=history.history['val_loss']\n",
    "epochs=range(1,len(acc)+1)\n",
    "plt.xlabel('Epochs')\n",
    "plt.ylabel('Accuracy')\n",
    "plt.plot(epochs, acc, 'bo', label='Training acc')\n",
    "plt.plot(epochs, val_acc, 'b', label='Validation acc')\n",
    "plt.title('Training and validation accuracy')\n",
    "plt.legend()\n",
    "plt.savefig('fruit_images_classification_using data augmentation5a',format='png')\n",
    "plt.figure()\n",
    "\n",
    "plt.plot(epochs, loss, 'bo', label='Training loss')\n",
    "plt.plot(epochs, val_loss, 'b', label='Validation loss')\n",
    "plt.title('Training and validation loss')\n",
    "plt.xlabel('Epochs')\n",
    "plt.ylabel('Loss')\n",
    "plt.legend()\n",
    "plt.savefig('fruit_images_classification_using data augmentation5b',format='png')\n",
    "plt.show()"
   ]
  },
  {
   "cell_type": "code",
   "execution_count": 10,
   "metadata": {},
   "outputs": [],
   "source": [
    "steps_test=12132/32"
   ]
  },
  {
   "cell_type": "code",
   "execution_count": 11,
   "metadata": {},
   "outputs": [
    {
     "name": "stdout",
     "output_type": "stream",
     "text": [
      "379.125\n"
     ]
    }
   ],
   "source": [
    "print(steps_test)"
   ]
  },
  {
   "cell_type": "code",
   "execution_count": 12,
   "metadata": {},
   "outputs": [
    {
     "name": "stdout",
     "output_type": "stream",
     "text": [
      "Test-set classification accuracy: 96.79%\n"
     ]
    }
   ],
   "source": [
    "result = model.evaluate_generator(validation_generator, steps=steps_test)\n",
    "print(\"Test-set classification accuracy: {0:.2%}\".format(result[1]))"
   ]
  },
  {
   "cell_type": "code",
   "execution_count": null,
   "metadata": {},
   "outputs": [],
   "source": []
  }
 ],
 "metadata": {
  "kernelspec": {
   "display_name": "Python 3",
   "language": "python",
   "name": "python3"
  },
  "language_info": {
   "codemirror_mode": {
    "name": "ipython",
    "version": 3
   },
   "file_extension": ".py",
   "mimetype": "text/x-python",
   "name": "python",
   "nbconvert_exporter": "python",
   "pygments_lexer": "ipython3",
   "version": "3.5.5"
  }
 },
 "nbformat": 4,
 "nbformat_minor": 2
}
