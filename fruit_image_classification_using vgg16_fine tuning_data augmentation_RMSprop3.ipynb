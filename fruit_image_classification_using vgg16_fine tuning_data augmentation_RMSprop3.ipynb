{
 "cells": [
  {
   "cell_type": "code",
   "execution_count": 1,
   "metadata": {},
   "outputs": [],
   "source": [
    "from tensorflow.python.keras.applications import VGG16\n",
    "\n",
    "conv_base=VGG16(weights='imagenet',include_top=False,input_shape=(100,100,3))"
   ]
  },
  {
   "cell_type": "code",
   "execution_count": 2,
   "metadata": {},
   "outputs": [
    {
     "name": "stdout",
     "output_type": "stream",
     "text": [
      "_________________________________________________________________\n",
      "Layer (type)                 Output Shape              Param #   \n",
      "=================================================================\n",
      "input_1 (InputLayer)         (None, 100, 100, 3)       0         \n",
      "_________________________________________________________________\n",
      "block1_conv1 (Conv2D)        (None, 100, 100, 64)      1792      \n",
      "_________________________________________________________________\n",
      "block1_conv2 (Conv2D)        (None, 100, 100, 64)      36928     \n",
      "_________________________________________________________________\n",
      "block1_pool (MaxPooling2D)   (None, 50, 50, 64)        0         \n",
      "_________________________________________________________________\n",
      "block2_conv1 (Conv2D)        (None, 50, 50, 128)       73856     \n",
      "_________________________________________________________________\n",
      "block2_conv2 (Conv2D)        (None, 50, 50, 128)       147584    \n",
      "_________________________________________________________________\n",
      "block2_pool (MaxPooling2D)   (None, 25, 25, 128)       0         \n",
      "_________________________________________________________________\n",
      "block3_conv1 (Conv2D)        (None, 25, 25, 256)       295168    \n",
      "_________________________________________________________________\n",
      "block3_conv2 (Conv2D)        (None, 25, 25, 256)       590080    \n",
      "_________________________________________________________________\n",
      "block3_conv3 (Conv2D)        (None, 25, 25, 256)       590080    \n",
      "_________________________________________________________________\n",
      "block3_pool (MaxPooling2D)   (None, 12, 12, 256)       0         \n",
      "_________________________________________________________________\n",
      "block4_conv1 (Conv2D)        (None, 12, 12, 512)       1180160   \n",
      "_________________________________________________________________\n",
      "block4_conv2 (Conv2D)        (None, 12, 12, 512)       2359808   \n",
      "_________________________________________________________________\n",
      "block4_conv3 (Conv2D)        (None, 12, 12, 512)       2359808   \n",
      "_________________________________________________________________\n",
      "block4_pool (MaxPooling2D)   (None, 6, 6, 512)         0         \n",
      "_________________________________________________________________\n",
      "block5_conv1 (Conv2D)        (None, 6, 6, 512)         2359808   \n",
      "_________________________________________________________________\n",
      "block5_conv2 (Conv2D)        (None, 6, 6, 512)         2359808   \n",
      "_________________________________________________________________\n",
      "block5_conv3 (Conv2D)        (None, 6, 6, 512)         2359808   \n",
      "_________________________________________________________________\n",
      "block5_pool (MaxPooling2D)   (None, 3, 3, 512)         0         \n",
      "=================================================================\n",
      "Total params: 14,714,688\n",
      "Trainable params: 14,714,688\n",
      "Non-trainable params: 0\n",
      "_________________________________________________________________\n"
     ]
    }
   ],
   "source": [
    "conv_base.summary()"
   ]
  },
  {
   "cell_type": "code",
   "execution_count": 3,
   "metadata": {},
   "outputs": [],
   "source": [
    "conv_base.trainable = True\n",
    "\n",
    "set_trainable = False\n",
    "for layer in conv_base.layers:\n",
    "    if layer.name == 'block5_conv1':\n",
    "        set_trainable = True\n",
    "    if set_trainable:\n",
    "        layer.trainable = True\n",
    "    else:\n",
    "        layer.trainable = False"
   ]
  },
  {
   "cell_type": "code",
   "execution_count": 4,
   "metadata": {},
   "outputs": [],
   "source": [
    "import os\n",
    "import numpy as np\n",
    "from tensorflow.python.keras.preprocessing.image import ImageDataGenerator"
   ]
  },
  {
   "cell_type": "code",
   "execution_count": 5,
   "metadata": {},
   "outputs": [],
   "source": [
    "from tensorflow.python.keras import models\n",
    "from tensorflow.python.keras import layers\n",
    "\n",
    "model = models.Sequential()\n",
    "model.add(conv_base)\n",
    "model.add(layers.Flatten())\n",
    "model.add(layers.Dense(256, activation='relu'))\n",
    "model.add(layers.Dense(72, activation='softmax'))"
   ]
  },
  {
   "cell_type": "code",
   "execution_count": 6,
   "metadata": {},
   "outputs": [
    {
     "name": "stdout",
     "output_type": "stream",
     "text": [
      "_________________________________________________________________\n",
      "Layer (type)                 Output Shape              Param #   \n",
      "=================================================================\n",
      "vgg16 (Model)                (None, 3, 3, 512)         14714688  \n",
      "_________________________________________________________________\n",
      "flatten (Flatten)            (None, 4608)              0         \n",
      "_________________________________________________________________\n",
      "dense (Dense)                (None, 256)               1179904   \n",
      "_________________________________________________________________\n",
      "dense_1 (Dense)              (None, 72)                18504     \n",
      "=================================================================\n",
      "Total params: 15,913,096\n",
      "Trainable params: 8,277,832\n",
      "Non-trainable params: 7,635,264\n",
      "_________________________________________________________________\n"
     ]
    }
   ],
   "source": [
    "model.summary()"
   ]
  },
  {
   "cell_type": "code",
   "execution_count": 7,
   "metadata": {},
   "outputs": [],
   "source": [
    "train_dir='C:\\\\Users\\\\Raheel\\\\fruits_classification\\\\fruits-360_dataset\\\\fruits-360\\\\Training'"
   ]
  },
  {
   "cell_type": "code",
   "execution_count": 8,
   "metadata": {},
   "outputs": [],
   "source": [
    "validation_dir='C:\\\\Users\\\\Raheel\\\\fruits_classification\\\\fruits-360_dataset\\\\fruits-360\\\\Test'"
   ]
  },
  {
   "cell_type": "code",
   "execution_count": 9,
   "metadata": {},
   "outputs": [],
   "source": [
    "from tensorflow.python.keras import optimizers\n",
    "\n",
    "model.compile(loss='categorical_crossentropy',optimizer=optimizers.RMSprop(lr=1e-5),metrics=['categorical_accuracy'])"
   ]
  },
  {
   "cell_type": "code",
   "execution_count": 10,
   "metadata": {},
   "outputs": [
    {
     "name": "stdout",
     "output_type": "stream",
     "text": [
      "Found 36117 images belonging to 72 classes.\n",
      "Found 12132 images belonging to 72 classes.\n",
      "Epoch 1/100\n",
      "100/100 [==============================] - 17s 172ms/step - loss: 4.1885 - categorical_accuracy: 0.0569 - val_loss: 4.2147 - val_categorical_accuracy: 6.2500e-04\n",
      "Epoch 2/100\n",
      "100/100 [==============================] - 14s 144ms/step - loss: 3.6291 - categorical_accuracy: 0.1750 - val_loss: 3.7689 - val_categorical_accuracy: 0.0750\n",
      "Epoch 3/100\n",
      "100/100 [==============================] - 14s 144ms/step - loss: 2.9876 - categorical_accuracy: 0.3044 - val_loss: 3.4016 - val_categorical_accuracy: 0.2213\n",
      "Epoch 4/100\n",
      "100/100 [==============================] - 15s 151ms/step - loss: 2.4297 - categorical_accuracy: 0.4232 - val_loss: 2.7159 - val_categorical_accuracy: 0.2731\n",
      "Epoch 5/100\n",
      "100/100 [==============================] - 15s 145ms/step - loss: 1.9994 - categorical_accuracy: 0.5153 - val_loss: 2.5751 - val_categorical_accuracy: 0.2969\n",
      "Epoch 6/100\n",
      "100/100 [==============================] - 14s 145ms/step - loss: 1.5726 - categorical_accuracy: 0.6125 - val_loss: 2.1004 - val_categorical_accuracy: 0.3756\n",
      "Epoch 7/100\n",
      "100/100 [==============================] - 15s 147ms/step - loss: 1.2956 - categorical_accuracy: 0.6684 - val_loss: 1.9301 - val_categorical_accuracy: 0.4781\n",
      "Epoch 8/100\n",
      "100/100 [==============================] - 14s 145ms/step - loss: 1.0890 - categorical_accuracy: 0.7219 - val_loss: 1.7235 - val_categorical_accuracy: 0.4844\n",
      "Epoch 9/100\n",
      "100/100 [==============================] - 16s 162ms/step - loss: 0.9980 - categorical_accuracy: 0.7375 - val_loss: 1.3234 - val_categorical_accuracy: 0.5606\n",
      "Epoch 10/100\n",
      "100/100 [==============================] - 14s 145ms/step - loss: 0.8277 - categorical_accuracy: 0.7791 - val_loss: 1.3217 - val_categorical_accuracy: 0.5494\n",
      "Epoch 11/100\n",
      "100/100 [==============================] - 15s 148ms/step - loss: 0.7183 - categorical_accuracy: 0.8078 - val_loss: 1.0072 - val_categorical_accuracy: 0.6481\n",
      "Epoch 12/100\n",
      "100/100 [==============================] - 15s 153ms/step - loss: 0.6109 - categorical_accuracy: 0.8303 - val_loss: 0.9027 - val_categorical_accuracy: 0.7512\n",
      "Epoch 13/100\n",
      "100/100 [==============================] - 15s 148ms/step - loss: 0.5628 - categorical_accuracy: 0.8494 - val_loss: 0.9095 - val_categorical_accuracy: 0.6975\n",
      "Epoch 14/100\n",
      "100/100 [==============================] - 15s 148ms/step - loss: 0.5091 - categorical_accuracy: 0.8588 - val_loss: 0.7621 - val_categorical_accuracy: 0.7788\n",
      "Epoch 15/100\n",
      "100/100 [==============================] - 15s 148ms/step - loss: 0.4480 - categorical_accuracy: 0.8744 - val_loss: 0.9208 - val_categorical_accuracy: 0.6525\n",
      "Epoch 16/100\n",
      "100/100 [==============================] - 15s 152ms/step - loss: 0.3944 - categorical_accuracy: 0.8884 - val_loss: 0.8632 - val_categorical_accuracy: 0.6800\n",
      "Epoch 17/100\n",
      "100/100 [==============================] - 15s 153ms/step - loss: 0.3733 - categorical_accuracy: 0.8953 - val_loss: 0.7654 - val_categorical_accuracy: 0.7456\n",
      "Epoch 18/100\n",
      "100/100 [==============================] - 15s 147ms/step - loss: 0.3429 - categorical_accuracy: 0.9038 - val_loss: 0.5655 - val_categorical_accuracy: 0.8331\n",
      "Epoch 19/100\n",
      "100/100 [==============================] - 14s 145ms/step - loss: 0.3199 - categorical_accuracy: 0.9075 - val_loss: 0.5400 - val_categorical_accuracy: 0.8413\n",
      "Epoch 20/100\n",
      "100/100 [==============================] - 15s 147ms/step - loss: 0.2800 - categorical_accuracy: 0.9203 - val_loss: 0.7033 - val_categorical_accuracy: 0.7412\n",
      "Epoch 21/100\n",
      "100/100 [==============================] - 15s 145ms/step - loss: 0.2731 - categorical_accuracy: 0.9222 - val_loss: 0.4550 - val_categorical_accuracy: 0.8550\n",
      "Epoch 22/100\n",
      "100/100 [==============================] - 14s 145ms/step - loss: 0.2628 - categorical_accuracy: 0.9209 - val_loss: 0.4948 - val_categorical_accuracy: 0.8400\n",
      "Epoch 23/100\n",
      "100/100 [==============================] - 16s 163ms/step - loss: 0.2496 - categorical_accuracy: 0.9234 - val_loss: 0.3625 - val_categorical_accuracy: 0.8906\n",
      "Epoch 24/100\n",
      "100/100 [==============================] - 14s 145ms/step - loss: 0.2228 - categorical_accuracy: 0.9384 - val_loss: 0.4521 - val_categorical_accuracy: 0.8281\n",
      "Epoch 25/100\n",
      "100/100 [==============================] - 15s 148ms/step - loss: 0.2163 - categorical_accuracy: 0.9384 - val_loss: 0.3612 - val_categorical_accuracy: 0.8781\n",
      "Epoch 26/100\n",
      "100/100 [==============================] - 15s 152ms/step - loss: 0.1910 - categorical_accuracy: 0.9478 - val_loss: 0.3601 - val_categorical_accuracy: 0.8744\n",
      "Epoch 27/100\n",
      "100/100 [==============================] - 15s 146ms/step - loss: 0.1797 - categorical_accuracy: 0.9469 - val_loss: 0.3923 - val_categorical_accuracy: 0.8912\n",
      "Epoch 28/100\n",
      "100/100 [==============================] - 15s 147ms/step - loss: 0.1686 - categorical_accuracy: 0.9516 - val_loss: 0.3348 - val_categorical_accuracy: 0.8656\n",
      "Epoch 29/100\n",
      "100/100 [==============================] - 16s 159ms/step - loss: 0.1676 - categorical_accuracy: 0.9556 - val_loss: 0.4280 - val_categorical_accuracy: 0.8538\n",
      "Epoch 30/100\n",
      "100/100 [==============================] - 17s 167ms/step - loss: 0.1659 - categorical_accuracy: 0.9522 - val_loss: 0.4912 - val_categorical_accuracy: 0.8425\n",
      "Epoch 31/100\n",
      "100/100 [==============================] - 15s 147ms/step - loss: 0.1774 - categorical_accuracy: 0.9441 - val_loss: 0.2027 - val_categorical_accuracy: 0.9456\n",
      "Epoch 32/100\n",
      "100/100 [==============================] - 15s 145ms/step - loss: 0.1522 - categorical_accuracy: 0.9566 - val_loss: 0.2992 - val_categorical_accuracy: 0.8894\n",
      "Epoch 33/100\n",
      "100/100 [==============================] - 14s 145ms/step - loss: 0.1599 - categorical_accuracy: 0.9488 - val_loss: 0.3268 - val_categorical_accuracy: 0.9050\n",
      "Epoch 34/100\n",
      "100/100 [==============================] - 17s 174ms/step - loss: 0.1362 - categorical_accuracy: 0.9619 - val_loss: 0.2509 - val_categorical_accuracy: 0.9200\n",
      "Epoch 35/100\n",
      "100/100 [==============================] - 18s 180ms/step - loss: 0.1338 - categorical_accuracy: 0.9609 - val_loss: 0.1995 - val_categorical_accuracy: 0.9413\n",
      "Epoch 36/100\n",
      "100/100 [==============================] - 18s 182ms/step - loss: 0.1235 - categorical_accuracy: 0.9659 - val_loss: 0.3010 - val_categorical_accuracy: 0.8894\n",
      "Epoch 37/100\n",
      "100/100 [==============================] - 18s 180ms/step - loss: 0.1223 - categorical_accuracy: 0.9631 - val_loss: 0.2134 - val_categorical_accuracy: 0.9375\n",
      "Epoch 38/100\n",
      "100/100 [==============================] - 18s 180ms/step - loss: 0.1241 - categorical_accuracy: 0.9631 - val_loss: 0.2044 - val_categorical_accuracy: 0.9250\n",
      "Epoch 39/100\n",
      "100/100 [==============================] - 18s 180ms/step - loss: 0.1209 - categorical_accuracy: 0.9634 - val_loss: 0.2474 - val_categorical_accuracy: 0.8931\n",
      "Epoch 40/100\n",
      "100/100 [==============================] - 18s 180ms/step - loss: 0.1002 - categorical_accuracy: 0.9697 - val_loss: 0.1973 - val_categorical_accuracy: 0.9344\n",
      "Epoch 41/100\n",
      "100/100 [==============================] - 21s 209ms/step - loss: 0.1134 - categorical_accuracy: 0.9659 - val_loss: 0.2323 - val_categorical_accuracy: 0.9400\n",
      "Epoch 42/100\n",
      "100/100 [==============================] - 18s 180ms/step - loss: 0.0953 - categorical_accuracy: 0.9706 - val_loss: 0.1901 - val_categorical_accuracy: 0.9369\n",
      "Epoch 43/100\n",
      "100/100 [==============================] - 18s 180ms/step - loss: 0.1025 - categorical_accuracy: 0.9669 - val_loss: 0.2417 - val_categorical_accuracy: 0.9031\n",
      "Epoch 44/100\n",
      "100/100 [==============================] - 18s 180ms/step - loss: 0.1040 - categorical_accuracy: 0.9666 - val_loss: 0.2546 - val_categorical_accuracy: 0.9050\n",
      "Epoch 45/100\n",
      "100/100 [==============================] - 18s 180ms/step - loss: 0.0995 - categorical_accuracy: 0.9681 - val_loss: 0.1281 - val_categorical_accuracy: 0.9688\n",
      "Epoch 46/100\n",
      "100/100 [==============================] - 18s 180ms/step - loss: 0.0928 - categorical_accuracy: 0.9714 - val_loss: 0.1491 - val_categorical_accuracy: 0.9406\n",
      "Epoch 47/100\n",
      "100/100 [==============================] - 18s 181ms/step - loss: 0.0934 - categorical_accuracy: 0.9694 - val_loss: 0.1461 - val_categorical_accuracy: 0.9544\n",
      "Epoch 48/100\n"
     ]
    },
    {
     "name": "stdout",
     "output_type": "stream",
     "text": [
      "100/100 [==============================] - 18s 180ms/step - loss: 0.0903 - categorical_accuracy: 0.9684 - val_loss: 0.1941 - val_categorical_accuracy: 0.9337\n",
      "Epoch 49/100\n",
      "100/100 [==============================] - 18s 180ms/step - loss: 0.0837 - categorical_accuracy: 0.9769 - val_loss: 0.2472 - val_categorical_accuracy: 0.9125\n",
      "Epoch 50/100\n",
      "100/100 [==============================] - 20s 198ms/step - loss: 0.0855 - categorical_accuracy: 0.9728 - val_loss: 0.1851 - val_categorical_accuracy: 0.9269\n",
      "Epoch 51/100\n",
      "100/100 [==============================] - 44s 442ms/step - loss: 0.0758 - categorical_accuracy: 0.9769 - val_loss: 0.0949 - val_categorical_accuracy: 0.9700\n",
      "Epoch 52/100\n",
      "100/100 [==============================] - 33s 334ms/step - loss: 0.0751 - categorical_accuracy: 0.9750 - val_loss: 0.1797 - val_categorical_accuracy: 0.9250\n",
      "Epoch 53/100\n",
      "100/100 [==============================] - 18s 180ms/step - loss: 0.0765 - categorical_accuracy: 0.9756 - val_loss: 0.2762 - val_categorical_accuracy: 0.8944\n",
      "Epoch 54/100\n",
      "100/100 [==============================] - 18s 180ms/step - loss: 0.0646 - categorical_accuracy: 0.9797 - val_loss: 0.1468 - val_categorical_accuracy: 0.9400\n",
      "Epoch 55/100\n",
      "100/100 [==============================] - 18s 180ms/step - loss: 0.0732 - categorical_accuracy: 0.9778 - val_loss: 0.2651 - val_categorical_accuracy: 0.9119\n",
      "Epoch 56/100\n",
      "100/100 [==============================] - 18s 180ms/step - loss: 0.0798 - categorical_accuracy: 0.9759 - val_loss: 0.1415 - val_categorical_accuracy: 0.9631\n",
      "Epoch 57/100\n",
      "100/100 [==============================] - 18s 181ms/step - loss: 0.0718 - categorical_accuracy: 0.9800 - val_loss: 0.0863 - val_categorical_accuracy: 0.9706\n",
      "Epoch 58/100\n",
      "100/100 [==============================] - 18s 180ms/step - loss: 0.0656 - categorical_accuracy: 0.9819 - val_loss: 0.2679 - val_categorical_accuracy: 0.9113\n",
      "Epoch 59/100\n",
      "100/100 [==============================] - 18s 180ms/step - loss: 0.0684 - categorical_accuracy: 0.9778 - val_loss: 0.1080 - val_categorical_accuracy: 0.9669\n",
      "Epoch 60/100\n",
      "100/100 [==============================] - 18s 180ms/step - loss: 0.0718 - categorical_accuracy: 0.9781 - val_loss: 0.1185 - val_categorical_accuracy: 0.9581\n",
      "Epoch 61/100\n",
      "100/100 [==============================] - 18s 180ms/step - loss: 0.0598 - categorical_accuracy: 0.9806 - val_loss: 0.2953 - val_categorical_accuracy: 0.8894\n",
      "Epoch 62/100\n",
      "100/100 [==============================] - 19s 185ms/step - loss: 0.0688 - categorical_accuracy: 0.9784 - val_loss: 0.1214 - val_categorical_accuracy: 0.9563\n",
      "Epoch 63/100\n",
      "100/100 [==============================] - 19s 189ms/step - loss: 0.0705 - categorical_accuracy: 0.9772 - val_loss: 0.1529 - val_categorical_accuracy: 0.9363\n",
      "Epoch 64/100\n",
      "100/100 [==============================] - 19s 192ms/step - loss: 0.0588 - categorical_accuracy: 0.9816 - val_loss: 0.3582 - val_categorical_accuracy: 0.8631\n",
      "Epoch 65/100\n",
      "100/100 [==============================] - 18s 185ms/step - loss: 0.0568 - categorical_accuracy: 0.9831 - val_loss: 0.1512 - val_categorical_accuracy: 0.9469\n",
      "Epoch 66/100\n",
      "100/100 [==============================] - 19s 192ms/step - loss: 0.0633 - categorical_accuracy: 0.9822 - val_loss: 0.1041 - val_categorical_accuracy: 0.9719\n",
      "Epoch 67/100\n",
      "100/100 [==============================] - 19s 191ms/step - loss: 0.0553 - categorical_accuracy: 0.9797 - val_loss: 0.3097 - val_categorical_accuracy: 0.8838\n",
      "Epoch 68/100\n",
      "100/100 [==============================] - 19s 192ms/step - loss: 0.0563 - categorical_accuracy: 0.9813 - val_loss: 0.1261 - val_categorical_accuracy: 0.9537\n",
      "Epoch 69/100\n",
      "100/100 [==============================] - 19s 191ms/step - loss: 0.0560 - categorical_accuracy: 0.9794 - val_loss: 0.2622 - val_categorical_accuracy: 0.8938\n",
      "Epoch 70/100\n",
      "100/100 [==============================] - 19s 192ms/step - loss: 0.0515 - categorical_accuracy: 0.9816 - val_loss: 0.0875 - val_categorical_accuracy: 0.9675\n",
      "Epoch 71/100\n",
      "100/100 [==============================] - 19s 191ms/step - loss: 0.0575 - categorical_accuracy: 0.9806 - val_loss: 0.0809 - val_categorical_accuracy: 0.9694\n",
      "Epoch 72/100\n",
      "100/100 [==============================] - 19s 190ms/step - loss: 0.0554 - categorical_accuracy: 0.9806 - val_loss: 0.1824 - val_categorical_accuracy: 0.9219\n",
      "Epoch 73/100\n",
      "100/100 [==============================] - 19s 188ms/step - loss: 0.0516 - categorical_accuracy: 0.9825 - val_loss: 0.1034 - val_categorical_accuracy: 0.9675\n",
      "Epoch 74/100\n",
      "100/100 [==============================] - 19s 191ms/step - loss: 0.0510 - categorical_accuracy: 0.9808 - val_loss: 0.1717 - val_categorical_accuracy: 0.9375\n",
      "Epoch 75/100\n",
      "100/100 [==============================] - 19s 192ms/step - loss: 0.0515 - categorical_accuracy: 0.9825 - val_loss: 0.1501 - val_categorical_accuracy: 0.9344\n",
      "Epoch 76/100\n",
      "100/100 [==============================] - 19s 192ms/step - loss: 0.0516 - categorical_accuracy: 0.9834 - val_loss: 0.1724 - val_categorical_accuracy: 0.9444\n",
      "Epoch 77/100\n",
      "100/100 [==============================] - 19s 191ms/step - loss: 0.0491 - categorical_accuracy: 0.9844 - val_loss: 0.1236 - val_categorical_accuracy: 0.9525\n",
      "Epoch 78/100\n",
      "100/100 [==============================] - 19s 191ms/step - loss: 0.0492 - categorical_accuracy: 0.9834 - val_loss: 0.0866 - val_categorical_accuracy: 0.9694\n",
      "Epoch 79/100\n",
      "100/100 [==============================] - 19s 188ms/step - loss: 0.0440 - categorical_accuracy: 0.9862 - val_loss: 0.1163 - val_categorical_accuracy: 0.9581\n",
      "Epoch 80/100\n",
      "100/100 [==============================] - 19s 192ms/step - loss: 0.0518 - categorical_accuracy: 0.9813 - val_loss: 0.1364 - val_categorical_accuracy: 0.9594\n",
      "Epoch 81/100\n",
      "100/100 [==============================] - 19s 192ms/step - loss: 0.0414 - categorical_accuracy: 0.9856 - val_loss: 0.0684 - val_categorical_accuracy: 0.9862\n",
      "Epoch 82/100\n",
      "100/100 [==============================] - 19s 188ms/step - loss: 0.0472 - categorical_accuracy: 0.9838 - val_loss: 0.1944 - val_categorical_accuracy: 0.9375\n",
      "Epoch 83/100\n",
      "100/100 [==============================] - 19s 191ms/step - loss: 0.0527 - categorical_accuracy: 0.9816 - val_loss: 0.0814 - val_categorical_accuracy: 0.9694\n",
      "Epoch 84/100\n",
      "100/100 [==============================] - 19s 190ms/step - loss: 0.0369 - categorical_accuracy: 0.9853 - val_loss: 0.1437 - val_categorical_accuracy: 0.9656\n",
      "Epoch 85/100\n",
      "100/100 [==============================] - 19s 191ms/step - loss: 0.0443 - categorical_accuracy: 0.9866 - val_loss: 0.0501 - val_categorical_accuracy: 0.9844\n",
      "Epoch 86/100\n",
      "100/100 [==============================] - 19s 192ms/step - loss: 0.0463 - categorical_accuracy: 0.9838 - val_loss: 0.1957 - val_categorical_accuracy: 0.9356\n",
      "Epoch 87/100\n",
      "100/100 [==============================] - 19s 190ms/step - loss: 0.0429 - categorical_accuracy: 0.9844 - val_loss: 0.2668 - val_categorical_accuracy: 0.9200\n",
      "Epoch 88/100\n",
      "100/100 [==============================] - 19s 192ms/step - loss: 0.0402 - categorical_accuracy: 0.9866 - val_loss: 0.1066 - val_categorical_accuracy: 0.9531\n",
      "Epoch 89/100\n",
      "100/100 [==============================] - 19s 192ms/step - loss: 0.0436 - categorical_accuracy: 0.9844 - val_loss: 0.1073 - val_categorical_accuracy: 0.9594\n",
      "Epoch 90/100\n",
      "100/100 [==============================] - 19s 191ms/step - loss: 0.0420 - categorical_accuracy: 0.9862 - val_loss: 0.0910 - val_categorical_accuracy: 0.9694\n",
      "Epoch 91/100\n",
      "100/100 [==============================] - 19s 191ms/step - loss: 0.0418 - categorical_accuracy: 0.9859 - val_loss: 0.2630 - val_categorical_accuracy: 0.9125\n",
      "Epoch 92/100\n",
      "100/100 [==============================] - 19s 191ms/step - loss: 0.0373 - categorical_accuracy: 0.9850 - val_loss: 0.1811 - val_categorical_accuracy: 0.9400\n",
      "Epoch 93/100\n",
      "100/100 [==============================] - 19s 191ms/step - loss: 0.0493 - categorical_accuracy: 0.9838 - val_loss: 0.1524 - val_categorical_accuracy: 0.9569\n",
      "Epoch 94/100\n",
      "100/100 [==============================] - 19s 192ms/step - loss: 0.0429 - categorical_accuracy: 0.9844 - val_loss: 0.2550 - val_categorical_accuracy: 0.9294\n",
      "Epoch 95/100\n",
      "100/100 [==============================] - 19s 192ms/step - loss: 0.0360 - categorical_accuracy: 0.9903 - val_loss: 0.3797 - val_categorical_accuracy: 0.8956\n"
     ]
    },
    {
     "name": "stdout",
     "output_type": "stream",
     "text": [
      "Epoch 96/100\n",
      "100/100 [==============================] - 19s 192ms/step - loss: 0.0372 - categorical_accuracy: 0.9875 - val_loss: 0.1742 - val_categorical_accuracy: 0.9350\n",
      "Epoch 97/100\n",
      "100/100 [==============================] - 19s 190ms/step - loss: 0.0506 - categorical_accuracy: 0.9813 - val_loss: 0.0446 - val_categorical_accuracy: 0.9900\n",
      "Epoch 98/100\n",
      "100/100 [==============================] - 18s 181ms/step - loss: 0.0297 - categorical_accuracy: 0.9912 - val_loss: 0.4592 - val_categorical_accuracy: 0.8725\n",
      "Epoch 99/100\n",
      "100/100 [==============================] - 19s 191ms/step - loss: 0.0373 - categorical_accuracy: 0.9866 - val_loss: 0.0537 - val_categorical_accuracy: 0.9862\n",
      "Epoch 100/100\n",
      "100/100 [==============================] - 18s 180ms/step - loss: 0.0457 - categorical_accuracy: 0.9831 - val_loss: 0.0819 - val_categorical_accuracy: 0.9706\n"
     ]
    }
   ],
   "source": [
    "train_datagen = ImageDataGenerator(\n",
    "    rescale=1./255,\n",
    "    rotation_range=40,\n",
    "    width_shift_range=0.2,\n",
    "    height_shift_range=0.2,\n",
    "    shear_range=0.2,\n",
    "    zoom_range=0.2,\n",
    "    horizontal_flip=True,)\n",
    "\n",
    "# Note that the validation data should not be augmented!\n",
    "test_datagen = ImageDataGenerator(rescale=1./255)\n",
    "\n",
    "train_generator = train_datagen.flow_from_directory(\n",
    "        # This is the target directory\n",
    "        train_dir,\n",
    "        # All images will be resized to 150x150\n",
    "        target_size=(100, 100),\n",
    "        batch_size=32)\n",
    "\n",
    "validation_generator = test_datagen.flow_from_directory(\n",
    "        validation_dir,\n",
    "        target_size=(100, 100),\n",
    "        batch_size=32, shuffle=False)\n",
    "\n",
    "history = model.fit_generator(\n",
    "      train_generator,\n",
    "      steps_per_epoch=100,\n",
    "      epochs=100,\n",
    "      validation_data=validation_generator,\n",
    "      validation_steps=50)"
   ]
  },
  {
   "cell_type": "code",
   "execution_count": 11,
   "metadata": {},
   "outputs": [],
   "source": [
    "model.save('fruits_360_vgg16_fine_tuning_data_augmentation.h5')"
   ]
  },
  {
   "cell_type": "code",
   "execution_count": 12,
   "metadata": {},
   "outputs": [],
   "source": [
    "import matplotlib.pyplot as plt"
   ]
  },
  {
   "cell_type": "code",
   "execution_count": 13,
   "metadata": {},
   "outputs": [
    {
     "data": {
      "image/png": "[encoded data removed]",
      "text/plain": [
       "<Figure size 432x288 with 1 Axes>"
      ]
     },
     "metadata": {},
     "output_type": "display_data"
    },
    {
     "data": {
      "image/png": "[encoded data removed]",
      "text/plain": [
       "<Figure size 432x288 with 1 Axes>"
      ]
     },
     "metadata": {},
     "output_type": "display_data"
    }
   ],
   "source": [
    "acc=history.history['categorical_accuracy']\n",
    "val_acc=history.history['val_categorical_accuracy']\n",
    "loss=history.history['loss']\n",
    "val_loss=history.history['val_loss']\n",
    "epochs=range(1,len(acc)+1)\n",
    "plt.xlabel('Epochs')\n",
    "plt.ylabel('Accuracy')\n",
    "plt.plot(epochs, acc, 'bo', label='Training acc')\n",
    "plt.plot(epochs, val_acc, 'b', label='Validation acc')\n",
    "plt.title('Training and validation accuracy')\n",
    "plt.legend()\n",
    "plt.savefig('fruit_image_classification_using vgg16_fine tuning_data augmentation_RMSprop3A',format='png')\n",
    "plt.figure()\n",
    "plt.xlabel('Epochs')\n",
    "plt.ylabel('Loss')\n",
    "plt.plot(epochs, loss, 'bo', label='Training loss')\n",
    "plt.plot(epochs, val_loss, 'b', label='Validation loss')\n",
    "plt.title('Training and validation loss')\n",
    "plt.legend()\n",
    "plt.savefig('fruit_image_classification_using vgg16_fine tuning_data augmentation_RMSprop3B',format='png')\n",
    "plt.show()"
   ]
  },
  {
   "cell_type": "code",
   "execution_count": 14,
   "metadata": {},
   "outputs": [],
   "source": [
    "steps_test=12132/32"
   ]
  },
  {
   "cell_type": "code",
   "execution_count": 15,
   "metadata": {},
   "outputs": [
    {
     "name": "stdout",
     "output_type": "stream",
     "text": [
      "379.125\n"
     ]
    }
   ],
   "source": [
    "print(steps_test)"
   ]
  },
  {
   "cell_type": "code",
   "execution_count": 16,
   "metadata": {},
   "outputs": [
    {
     "name": "stdout",
     "output_type": "stream",
     "text": [
      "Test-set classification accuracy: 98.01%\n"
     ]
    }
   ],
   "source": [
    "result = model.evaluate_generator(validation_generator, steps=steps_test)\n",
    "print(\"Test-set classification accuracy: {0:.2%}\".format(result[1]))"
   ]
  },
  {
   "cell_type": "code",
   "execution_count": null,
   "metadata": {},
   "outputs": [],
   "source": []
  }
 ],
 "metadata": {
  "kernelspec": {
   "display_name": "Python 3",
   "language": "python",
   "name": "python3"
  },
  "language_info": {
   "codemirror_mode": {
    "name": "ipython",
    "version": 3
   },
   "file_extension": ".py",
   "mimetype": "text/x-python",
   "name": "python",
   "nbconvert_exporter": "python",
   "pygments_lexer": "ipython3",
   "version": "3.5.5"
  }
 },
 "nbformat": 4,
 "nbformat_minor": 2
}
