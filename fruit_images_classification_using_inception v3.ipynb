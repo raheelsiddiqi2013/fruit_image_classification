{
 "cells": [
  {
   "cell_type": "code",
   "execution_count": 1,
   "metadata": {},
   "outputs": [],
   "source": [
    "%matplotlib inline\n",
    "import matplotlib.pyplot as plt\n",
    "import tensorflow as tf\n",
    "import numpy as np\n",
    "import time\n",
    "from datetime import timedelta\n",
    "import os\n",
    "\n",
    "# Functions and classes for loading and using the Inception model.\n",
    "import inception"
   ]
  },
  {
   "cell_type": "code",
   "execution_count": 2,
   "metadata": {},
   "outputs": [
    {
     "data": {
      "text/plain": [
       "'1.10.0'"
      ]
     },
     "execution_count": 2,
     "metadata": {},
     "output_type": "execute_result"
    }
   ],
   "source": [
    "tf.__version__"
   ]
  },
  {
   "cell_type": "code",
   "execution_count": 3,
   "metadata": {},
   "outputs": [],
   "source": [
    "import cv2\n",
    "from tqdm import tqdm"
   ]
  },
  {
   "cell_type": "code",
   "execution_count": 4,
   "metadata": {},
   "outputs": [],
   "source": [
    "DATA_DIR=\"C:\\\\Users\\\\Raheel Siddiqi\\\\fruits_classification\\\\fruits-360_dataset\\\\fruits-360\\\\Training\"\n",
    "CATEGORIES=[]\n",
    "for category in os.listdir(DATA_DIR):\n",
    "    CATEGORIES.append(category)"
   ]
  },
  {
   "cell_type": "code",
   "execution_count": 5,
   "metadata": {},
   "outputs": [
    {
     "name": "stdout",
     "output_type": "stream",
     "text": [
      "['Apple Braeburn', 'Apple Golden 1', 'Apple Golden 2', 'Apple Golden 3', 'Apple Granny Smith', 'Apple Red 1', 'Apple Red 2', 'Apple Red 3', 'Apple Red Delicious', 'Apple Red Yellow', 'Apricot', 'Avocado', 'Avocado ripe', 'Banana', 'Banana Red', 'Cactus fruit', 'Cantaloupe 1', 'Cantaloupe 2', 'Carambula', 'Cherry 1', 'Cherry 2', 'Cherry Rainier', 'Cherry Wax Yellow', 'Clementine', 'Cocos', 'Dates', 'Granadilla', 'Grape Pink', 'Grape White', 'Grape White 2', 'Grapefruit Pink', 'Grapefruit White', 'Guava', 'Huckleberry', 'Kaki', 'Kiwi', 'Kumquats', 'Lemon', 'Lemon Meyer', 'Limes', 'Lychee', 'Mandarine', 'Mango', 'Maracuja', 'Melon Piel de Sapo', 'Mulberry', 'Nectarine', 'Orange', 'Papaya', 'Passion Fruit', 'Peach', 'Peach Flat', 'Pear', 'Pear Abate', 'Pear Monster', 'Pear Williams', 'Pepino', 'Physalis', 'Physalis with Husk', 'Pineapple', 'Pineapple Mini', 'Pitahaya Red', 'Plum', 'Pomegranate', 'Quince', 'Rambutan', 'Raspberry', 'Salak', 'Strawberry', 'Strawberry Wedge', 'Tamarillo', 'Tangelo']\n"
     ]
    }
   ],
   "source": [
    "print(CATEGORIES)"
   ]
  },
  {
   "cell_type": "code",
   "execution_count": 6,
   "metadata": {},
   "outputs": [
    {
     "name": "stdout",
     "output_type": "stream",
     "text": [
      "72\n"
     ]
    }
   ],
   "source": [
    "print(len(CATEGORIES))"
   ]
  },
  {
   "cell_type": "code",
   "execution_count": 7,
   "metadata": {
    "scrolled": true
   },
   "outputs": [
    {
     "name": "stderr",
     "output_type": "stream",
     "text": [
      "100%|██████████| 492/492 [00:00<00:00, 2313.40it/s]\n",
      "100%|██████████| 492/492 [00:00<00:00, 2165.25it/s]\n",
      "100%|██████████| 492/492 [00:00<00:00, 2120.31it/s]\n",
      "100%|██████████| 481/481 [00:00<00:00, 2226.40it/s]\n",
      "100%|██████████| 492/492 [00:00<00:00, 2196.34it/s]\n",
      "100%|██████████| 492/492 [00:00<00:00, 1952.38it/s]\n",
      "100%|██████████| 492/492 [00:00<00:00, 2049.65it/s]\n",
      "100%|██████████| 429/429 [00:00<00:00, 2144.56it/s]\n",
      "100%|██████████| 490/490 [00:00<00:00, 2148.70it/s]\n",
      "100%|██████████| 492/492 [00:00<00:00, 2050.00it/s]\n",
      "100%|██████████| 492/492 [00:00<00:00, 2253.43it/s]\n",
      "100%|██████████| 427/427 [00:03<00:00, 127.10it/s] \n",
      "100%|██████████| 491/491 [00:05<00:00, 96.10it/s]\n",
      "100%|██████████| 490/490 [00:05<00:00, 81.68it/s]\n",
      "100%|██████████| 490/490 [00:05<00:00, 91.90it/s]\n",
      "100%|██████████| 490/490 [00:05<00:00, 95.74it/s]\n",
      "100%|██████████| 492/492 [00:04<00:00, 111.26it/s]\n",
      "100%|██████████| 492/492 [00:04<00:00, 107.12it/s]\n",
      "100%|██████████| 490/490 [00:04<00:00, 116.31it/s]\n",
      "100%|██████████| 492/492 [00:04<00:00, 102.00it/s]\n",
      "100%|██████████| 738/738 [00:07<00:00, 92.55it/s]\n",
      "100%|██████████| 738/738 [00:06<00:00, 105.69it/s]\n",
      "100%|██████████| 492/492 [00:03<00:00, 144.37it/s]\n",
      "100%|██████████| 490/490 [00:03<00:00, 122.85it/s]\n",
      "100%|██████████| 490/490 [00:04<00:00, 121.80it/s]\n",
      "100%|██████████| 490/490 [00:04<00:00, 120.61it/s]\n",
      "100%|██████████| 490/490 [00:05<00:00, 96.09it/s] \n",
      "100%|██████████| 492/492 [00:04<00:00, 121.58it/s]\n",
      "100%|██████████| 490/490 [00:03<00:00, 126.37it/s]\n",
      "100%|██████████| 490/490 [00:03<00:00, 145.90it/s]\n",
      "100%|██████████| 490/490 [00:04<00:00, 110.73it/s]\n",
      "100%|██████████| 492/492 [00:04<00:00, 116.62it/s]\n",
      "100%|██████████| 490/490 [00:04<00:00, 111.46it/s]\n",
      "100%|██████████| 490/490 [00:04<00:00, 108.58it/s]\n",
      "100%|██████████| 490/490 [00:03<00:00, 125.82it/s]\n",
      "100%|██████████| 466/466 [00:03<00:00, 123.81it/s]\n",
      "100%|██████████| 490/490 [00:03<00:00, 134.20it/s]\n",
      "100%|██████████| 492/492 [00:04<00:00, 103.32it/s]\n",
      "100%|██████████| 490/490 [00:04<00:00, 121.55it/s]\n",
      "100%|██████████| 490/490 [00:03<00:00, 126.67it/s]\n",
      "100%|██████████| 490/490 [00:03<00:00, 128.61it/s]\n",
      "100%|██████████| 490/490 [00:04<00:00, 120.75it/s]\n",
      "100%|██████████| 490/490 [00:03<00:00, 134.07it/s]\n",
      "100%|██████████| 490/490 [00:03<00:00, 138.58it/s]\n",
      "100%|██████████| 738/738 [00:05<00:00, 138.20it/s]\n",
      "100%|██████████| 492/492 [00:03<00:00, 128.64it/s]\n",
      "100%|██████████| 492/492 [00:03<00:00, 131.03it/s]\n",
      "100%|██████████| 479/479 [00:03<00:00, 133.43it/s]\n",
      "100%|██████████| 492/492 [00:03<00:00, 129.44it/s]\n",
      "100%|██████████| 490/490 [00:03<00:00, 134.68it/s]\n",
      "100%|██████████| 492/492 [00:03<00:00, 135.60it/s]\n",
      "100%|██████████| 492/492 [00:05<00:00, 86.18it/s]\n",
      "100%|██████████| 492/492 [00:04<00:00, 121.00it/s]\n",
      "100%|██████████| 490/490 [00:03<00:00, 139.48it/s]\n",
      "100%|██████████| 490/490 [00:03<00:00, 130.06it/s]\n",
      "100%|██████████| 490/490 [00:04<00:00, 110.74it/s]\n",
      "100%|██████████| 490/490 [00:03<00:00, 130.04it/s]\n",
      "100%|██████████| 492/492 [00:03<00:00, 131.60it/s]\n",
      "100%|██████████| 492/492 [00:03<00:00, 132.86it/s]\n",
      "100%|██████████| 490/490 [00:03<00:00, 131.36it/s]\n",
      "100%|██████████| 493/493 [00:03<00:00, 123.47it/s]\n",
      "100%|██████████| 490/490 [00:03<00:00, 142.44it/s]\n",
      "100%|██████████| 447/447 [00:03<00:00, 123.29it/s]\n",
      "100%|██████████| 492/492 [00:03<00:00, 137.55it/s]\n",
      "100%|██████████| 490/490 [00:03<00:00, 133.13it/s]\n",
      "100%|██████████| 492/492 [00:03<00:00, 135.27it/s]\n",
      "100%|██████████| 490/490 [00:03<00:00, 135.81it/s]\n",
      "100%|██████████| 490/490 [00:03<00:00, 126.17it/s]\n",
      "100%|██████████| 492/492 [00:03<00:00, 140.73it/s]\n",
      "100%|██████████| 738/738 [00:05<00:00, 129.08it/s]\n",
      "100%|██████████| 490/490 [00:03<00:00, 146.64it/s]\n",
      "100%|██████████| 490/490 [00:03<00:00, 146.26it/s]\n"
     ]
    }
   ],
   "source": [
    "training_data = []\n",
    "\n",
    "def create_training_data():\n",
    "    for category in CATEGORIES:  # do dogs and cats\n",
    "\n",
    "        path = os.path.join(DATA_DIR,category)  # create path to dogs and cats\n",
    "        class_num = CATEGORIES.index(category)  # get the classification  (0 or a 1). 0=dog 1=cat\n",
    "\n",
    "        for img in tqdm(os.listdir(path)):  # iterate over each image per dogs and cats\n",
    "            try:\n",
    "                img_array = cv2.imread(os.path.join(path,img))  # convert to array\n",
    "                img_array = cv2.resize(img_array, (64,64))\n",
    "                new_array = cv2.cvtColor(img_array, cv2.COLOR_BGR2RGB)\n",
    "                training_data.append([new_array, class_num])  # add this to our training_data\n",
    "            except Exception as e:  # in the interest in keeping the output clean...\n",
    "                pass\n",
    "            #except OSError as e:\n",
    "            #    print(\"OSErrroBad img most likely\", e, os.path.join(path,img))\n",
    "            #except Exception as e:\n",
    "            #    print(\"general exception\", e, os.path.join(path,img))\n",
    "\n",
    "create_training_data()"
   ]
  },
  {
   "cell_type": "code",
   "execution_count": 8,
   "metadata": {},
   "outputs": [
    {
     "name": "stdout",
     "output_type": "stream",
     "text": [
      "36117\n"
     ]
    }
   ],
   "source": [
    "print(len(training_data))"
   ]
  },
  {
   "cell_type": "code",
   "execution_count": 9,
   "metadata": {},
   "outputs": [],
   "source": [
    "import random\n",
    "\n",
    "random.shuffle(training_data)"
   ]
  },
  {
   "cell_type": "code",
   "execution_count": 10,
   "metadata": {},
   "outputs": [
    {
     "name": "stdout",
     "output_type": "stream",
     "text": [
      "25\n",
      "40\n",
      "46\n",
      "62\n",
      "30\n",
      "46\n",
      "48\n",
      "60\n",
      "39\n",
      "2\n"
     ]
    }
   ],
   "source": [
    "for sample in training_data[:10]:\n",
    "    print(sample[1])"
   ]
  },
  {
   "cell_type": "code",
   "execution_count": 11,
   "metadata": {},
   "outputs": [],
   "source": [
    "IMG_SIZE=64\n",
    "X = []\n",
    "y = []\n",
    "\n",
    "for features,label in training_data:\n",
    "    X.append(features)\n",
    "    y.append(label)\n",
    "X=np.array(X).reshape(-1,IMG_SIZE,IMG_SIZE,3)\n",
    "y=np.array(y)"
   ]
  },
  {
   "cell_type": "code",
   "execution_count": 12,
   "metadata": {},
   "outputs": [
    {
     "data": {
      "image/png": "[encoded data removed]",
      "text/plain": [
       "<Figure size 432x288 with 1 Axes>"
      ]
     },
     "metadata": {},
     "output_type": "display_data"
    }
   ],
   "source": [
    "plt.imshow(X[2].reshape(IMG_SIZE,IMG_SIZE,3))\n",
    "plt.show()"
   ]
  },
  {
   "cell_type": "code",
   "execution_count": 13,
   "metadata": {},
   "outputs": [],
   "source": [
    "def plot_images(images, cls_true, cls_pred=None):\n",
    "    assert len(images) == len(cls_true) == 9\n",
    "    \n",
    "    # Create figure with 3x3 sub-plots.\n",
    "    fig, axes = plt.subplots(3, 3)\n",
    "    fig.subplots_adjust(hspace=0.3, wspace=0.3)\n",
    "\n",
    "    for i, ax in enumerate(axes.flat):\n",
    "        # Plot image.\n",
    "        ax.imshow(images[i].reshape(64,64,3), cmap='binary')\n",
    "\n",
    "        # Show true and predicted classes.\n",
    "        if cls_pred is None:\n",
    "            xlabel = \"True: {0}\".format(CATEGORIES[cls_true[i]])\n",
    "        else:\n",
    "            xlabel = \"True: {0}, Pred: {1}\".format(CATEGORIES[cls_true[i]], cls_pred[i])\n",
    "\n",
    "        ax.set_xlabel(xlabel)\n",
    "        \n",
    "        # Remove ticks from the plot.\n",
    "        ax.set_xticks([])\n",
    "        ax.set_yticks([])\n",
    "        \n",
    "    # Ensure the plot is shown correctly with multiple plots\n",
    "    # in a single Notebook cell.\n",
    "    plt.show()"
   ]
  },
  {
   "cell_type": "code",
   "execution_count": 14,
   "metadata": {},
   "outputs": [
    {
     "data": {
      "image/png": "[encoded data removed]",
      "text/plain": [
       "<Figure size 432x288 with 9 Axes>"
      ]
     },
     "metadata": {},
     "output_type": "display_data"
    }
   ],
   "source": [
    "plot_images(X[0:9],y[0:9])"
   ]
  },
  {
   "cell_type": "code",
   "execution_count": 15,
   "metadata": {},
   "outputs": [
    {
     "name": "stdout",
     "output_type": "stream",
     "text": [
      "(36117, 64, 64, 3)\n"
     ]
    }
   ],
   "source": [
    "print(X.shape)"
   ]
  },
  {
   "cell_type": "code",
   "execution_count": 16,
   "metadata": {},
   "outputs": [],
   "source": [
    "DATA_DIR_TEST='C:\\\\Users\\\\Raheel Siddiqi\\\\fruits_classification\\\\fruits-360_dataset\\\\fruits-360\\\\Test'\n",
    "CATEGORIES_TEST=[]"
   ]
  },
  {
   "cell_type": "code",
   "execution_count": 17,
   "metadata": {},
   "outputs": [],
   "source": [
    "for category in os.listdir(DATA_DIR_TEST):\n",
    "    CATEGORIES_TEST.append(category)"
   ]
  },
  {
   "cell_type": "code",
   "execution_count": 18,
   "metadata": {},
   "outputs": [
    {
     "name": "stdout",
     "output_type": "stream",
     "text": [
      "['Apple Braeburn', 'Apple Golden 1', 'Apple Golden 2', 'Apple Golden 3', 'Apple Granny Smith', 'Apple Red 1', 'Apple Red 2', 'Apple Red 3', 'Apple Red Delicious', 'Apple Red Yellow', 'Apricot', 'Avocado', 'Avocado ripe', 'Banana', 'Banana Red', 'Cactus fruit', 'Cantaloupe 1', 'Cantaloupe 2', 'Carambula', 'Cherry 1', 'Cherry 2', 'Cherry Rainier', 'Cherry Wax Yellow', 'Clementine', 'Cocos', 'Dates', 'Granadilla', 'Grape Pink', 'Grape White', 'Grape White 2', 'Grapefruit Pink', 'Grapefruit White', 'Guava', 'Huckleberry', 'Kaki', 'Kiwi', 'Kumquats', 'Lemon', 'Lemon Meyer', 'Limes', 'Lychee', 'Mandarine', 'Mango', 'Maracuja', 'Melon Piel de Sapo', 'Mulberry', 'Nectarine', 'Orange', 'Papaya', 'Passion Fruit', 'Peach', 'Peach Flat', 'Pear', 'Pear Abate', 'Pear Monster', 'Pear Williams', 'Pepino', 'Physalis', 'Physalis with Husk', 'Pineapple', 'Pineapple Mini', 'Pitahaya Red', 'Plum', 'Pomegranate', 'Quince', 'Rambutan', 'Raspberry', 'Salak', 'Strawberry', 'Strawberry Wedge', 'Tamarillo', 'Tangelo']\n"
     ]
    }
   ],
   "source": [
    "print(CATEGORIES_TEST)"
   ]
  },
  {
   "cell_type": "code",
   "execution_count": 19,
   "metadata": {},
   "outputs": [
    {
     "name": "stdout",
     "output_type": "stream",
     "text": [
      "72\n"
     ]
    }
   ],
   "source": [
    "print(len(CATEGORIES_TEST))"
   ]
  },
  {
   "cell_type": "code",
   "execution_count": 93,
   "metadata": {},
   "outputs": [
    {
     "name": "stderr",
     "output_type": "stream",
     "text": [
      "100%|██████████| 164/164 [00:00<00:00, 2565.52it/s]\n",
      "100%|██████████| 164/164 [00:00<00:00, 2228.60it/s]\n",
      "100%|██████████| 164/164 [00:00<00:00, 2238.33it/s]\n",
      "100%|██████████| 161/161 [00:00<00:00, 2305.77it/s]\n",
      "100%|██████████| 164/164 [00:00<00:00, 2330.58it/s]\n",
      "100%|██████████| 164/164 [00:00<00:00, 2292.71it/s]\n",
      "100%|██████████| 164/164 [00:00<00:00, 2276.51it/s]\n",
      "100%|██████████| 144/144 [00:00<00:00, 2116.57it/s]\n",
      "100%|██████████| 166/166 [00:00<00:00, 2357.99it/s]\n",
      "100%|██████████| 164/164 [00:00<00:00, 2002.69it/s]\n",
      "100%|██████████| 164/164 [00:00<00:00, 2156.85it/s]\n",
      "100%|██████████| 143/143 [00:00<00:00, 2233.01it/s]\n",
      "100%|██████████| 166/166 [00:00<00:00, 2304.36it/s]\n",
      "100%|██████████| 166/166 [00:00<00:00, 2403.38it/s]\n",
      "100%|██████████| 166/166 [00:00<00:00, 2439.86it/s]\n",
      "100%|██████████| 166/166 [00:00<00:00, 2304.20it/s]\n",
      "100%|██████████| 164/164 [00:00<00:00, 2156.37it/s]\n",
      "100%|██████████| 164/164 [00:00<00:00, 2048.95it/s]\n",
      "100%|██████████| 166/166 [00:00<00:00, 2304.40it/s]\n",
      "100%|██████████| 164/164 [00:00<00:00, 2157.84it/s]\n",
      "100%|██████████| 246/246 [00:00<00:00, 2277.03it/s]\n",
      "100%|██████████| 246/246 [00:00<00:00, 2120.73it/s]\n",
      "100%|██████████| 164/164 [00:00<00:00, 2157.63it/s]\n",
      "100%|██████████| 166/166 [00:00<00:00, 2073.96it/s]\n",
      "100%|██████████| 166/166 [00:00<00:00, 2075.01it/s]\n",
      "100%|██████████| 166/166 [00:00<00:00, 2183.09it/s]\n",
      "100%|██████████| 166/166 [00:00<00:00, 1803.51it/s]\n",
      "100%|██████████| 164/164 [00:00<00:00, 2157.94it/s]\n",
      "100%|██████████| 166/166 [00:00<00:00, 2183.85it/s]\n",
      "100%|██████████| 166/166 [00:00<00:00, 2183.16it/s]\n",
      "100%|██████████| 166/166 [00:00<00:00, 2075.01it/s]\n",
      "100%|██████████| 164/164 [00:00<00:00, 2157.88it/s]\n",
      "100%|██████████| 166/166 [00:00<00:00, 2114.14it/s]\n",
      "100%|██████████| 166/166 [00:00<00:00, 2183.11it/s]\n",
      "100%|██████████| 166/166 [00:00<00:00, 2593.02it/s]\n",
      "100%|██████████| 156/156 [00:00<00:00, 2088.40it/s]\n",
      "100%|██████████| 166/166 [00:00<00:00, 2183.20it/s]\n",
      "100%|██████████| 164/164 [00:00<00:00, 2276.42it/s]\n",
      "100%|██████████| 166/166 [00:00<00:00, 2074.01it/s]\n",
      "100%|██████████| 166/166 [00:00<00:00, 2184.26it/s]\n",
      "100%|██████████| 166/166 [00:00<00:00, 2075.03it/s]\n",
      "100%|██████████| 166/166 [00:00<00:00, 2075.03it/s]\n",
      "100%|██████████| 166/166 [00:00<00:00, 1976.17it/s]\n",
      "100%|██████████| 166/166 [00:00<00:00, 2184.28it/s]\n",
      "100%|██████████| 246/246 [00:00<00:00, 2050.03it/s]\n",
      "100%|██████████| 164/164 [00:00<00:00, 2156.72it/s]\n",
      "100%|██████████| 164/164 [00:00<00:00, 2048.98it/s]\n",
      "100%|██████████| 160/160 [00:00<00:00, 1903.91it/s]\n",
      "100%|██████████| 164/164 [00:00<00:00, 1952.44it/s]\n",
      "100%|██████████| 166/166 [00:00<00:00, 2183.09it/s]\n",
      "100%|██████████| 164/164 [00:00<00:00, 2158.82it/s]\n",
      "100%|██████████| 164/164 [00:00<00:00, 2410.33it/s]\n",
      "100%|██████████| 164/164 [00:00<00:00, 2157.92it/s]\n",
      "100%|██████████| 166/166 [00:00<00:00, 2184.22it/s]\n",
      "100%|██████████| 166/166 [00:00<00:00, 2184.20it/s]\n",
      "100%|██████████| 166/166 [00:00<00:00, 2183.08it/s]\n",
      "100%|██████████| 166/166 [00:00<00:00, 2305.64it/s]\n",
      "100%|██████████| 164/164 [00:00<00:00, 2157.97it/s]\n",
      "100%|██████████| 164/164 [00:00<00:00, 2157.95it/s]\n",
      "100%|██████████| 166/166 [00:00<00:00, 2074.06it/s]\n",
      "100%|██████████| 163/163 [00:00<00:00, 1940.51it/s]\n",
      "100%|██████████| 166/166 [00:00<00:00, 2182.68it/s]\n",
      "100%|██████████| 151/151 [00:00<00:00, 1986.87it/s]\n",
      "100%|██████████| 164/164 [00:00<00:00, 2156.76it/s]\n",
      "100%|██████████| 166/166 [00:00<00:00, 2184.20it/s]\n",
      "100%|██████████| 164/164 [00:00<00:00, 2276.46it/s]\n",
      "100%|██████████| 166/166 [00:00<00:00, 1885.59it/s]\n",
      "100%|██████████| 162/162 [00:00<00:00, 2250.01it/s]\n",
      "100%|██████████| 164/164 [00:00<00:00, 1951.41it/s]\n",
      "100%|██████████| 246/246 [00:00<00:00, 2120.73it/s]\n",
      "100%|██████████| 166/166 [00:00<00:00, 2184.22it/s]\n",
      "100%|██████████| 166/166 [00:00<00:00, 2183.14it/s]\n"
     ]
    }
   ],
   "source": [
    "testing_data=[]\n",
    "\n",
    "def create_testing_data():\n",
    "    for category in CATEGORIES_TEST:  # do dogs and cats\n",
    "\n",
    "        path = os.path.join(DATA_DIR_TEST,category)  # create path to dogs and cats\n",
    "        class_num = CATEGORIES_TEST.index(category)  # get the classification  (0 or a 1). 0=dog 1=cat\n",
    "\n",
    "        for img in tqdm(os.listdir(path)):  # iterate over each image per dogs and cats\n",
    "            try:\n",
    "                img_array = cv2.imread(os.path.join(path,img))  # convert to array\n",
    "                img_array = cv2.resize(img_array, (64,64))\n",
    "                new_array = cv2.cvtColor(img_array, cv2.COLOR_BGR2RGB)\n",
    "                testing_data.append([new_array, class_num])  # add this to our training_data\n",
    "            except Exception as e:  # in the interest in keeping the output clean...\n",
    "                pass\n",
    "            #except OSError as e:\n",
    "            #    print(\"OSErrroBad img most likely\", e, os.path.join(path,img))\n",
    "            #except Exception as e:\n",
    "            #    print(\"general exception\", e, os.path.join(path,img))\n",
    "\n",
    "create_testing_data()"
   ]
  },
  {
   "cell_type": "code",
   "execution_count": 96,
   "metadata": {},
   "outputs": [
    {
     "name": "stdout",
     "output_type": "stream",
     "text": [
      "0\n",
      "0\n",
      "0\n",
      "0\n",
      "0\n",
      "0\n",
      "0\n",
      "0\n",
      "0\n",
      "0\n",
      "0\n",
      "0\n",
      "0\n",
      "0\n",
      "0\n",
      "0\n",
      "0\n",
      "0\n",
      "0\n",
      "0\n",
      "0\n",
      "0\n",
      "0\n",
      "0\n",
      "0\n",
      "0\n",
      "0\n",
      "0\n",
      "0\n",
      "0\n",
      "0\n",
      "0\n",
      "0\n",
      "0\n",
      "0\n",
      "0\n",
      "0\n",
      "0\n",
      "0\n",
      "0\n",
      "0\n",
      "0\n",
      "0\n",
      "0\n",
      "0\n",
      "0\n",
      "0\n",
      "0\n",
      "0\n",
      "0\n",
      "0\n",
      "0\n",
      "0\n",
      "0\n",
      "0\n",
      "0\n",
      "0\n",
      "0\n",
      "0\n",
      "0\n",
      "0\n",
      "0\n",
      "0\n",
      "0\n",
      "0\n",
      "0\n",
      "0\n",
      "0\n",
      "0\n",
      "0\n",
      "0\n",
      "0\n",
      "0\n",
      "0\n",
      "0\n",
      "0\n",
      "0\n",
      "0\n",
      "0\n",
      "0\n",
      "0\n",
      "0\n",
      "0\n",
      "0\n",
      "0\n",
      "0\n",
      "0\n",
      "0\n",
      "0\n",
      "0\n",
      "0\n",
      "0\n",
      "0\n",
      "0\n",
      "0\n",
      "0\n",
      "0\n",
      "0\n",
      "0\n",
      "0\n",
      "0\n",
      "0\n",
      "0\n",
      "0\n",
      "0\n",
      "0\n",
      "0\n",
      "0\n",
      "0\n",
      "0\n",
      "0\n",
      "0\n",
      "0\n",
      "0\n",
      "0\n",
      "0\n",
      "0\n",
      "0\n",
      "0\n",
      "0\n",
      "0\n",
      "0\n",
      "0\n",
      "0\n",
      "0\n",
      "0\n",
      "0\n",
      "0\n",
      "0\n",
      "0\n",
      "0\n",
      "0\n",
      "0\n",
      "0\n",
      "0\n",
      "0\n",
      "0\n",
      "0\n",
      "0\n",
      "0\n",
      "0\n",
      "0\n",
      "0\n",
      "0\n",
      "0\n",
      "0\n",
      "0\n",
      "0\n",
      "0\n",
      "0\n",
      "0\n",
      "0\n",
      "0\n",
      "0\n",
      "0\n",
      "0\n",
      "0\n",
      "0\n",
      "0\n",
      "0\n",
      "0\n",
      "0\n",
      "0\n",
      "0\n",
      "1\n",
      "1\n",
      "1\n",
      "1\n",
      "1\n",
      "1\n",
      "1\n",
      "1\n",
      "1\n",
      "1\n",
      "1\n",
      "1\n",
      "1\n",
      "1\n",
      "1\n",
      "1\n",
      "1\n",
      "1\n",
      "1\n",
      "1\n",
      "1\n",
      "1\n",
      "1\n",
      "1\n",
      "1\n",
      "1\n",
      "1\n",
      "1\n",
      "1\n",
      "1\n",
      "1\n",
      "1\n",
      "1\n",
      "1\n",
      "1\n",
      "1\n"
     ]
    }
   ],
   "source": [
    "for sample in testing_data[:200]:\n",
    "    print(sample[1])"
   ]
  },
  {
   "cell_type": "code",
   "execution_count": 97,
   "metadata": {},
   "outputs": [],
   "source": [
    "IMG_SIZE=64\n",
    "X_test = []\n",
    "y_test = []\n",
    "\n",
    "for features,label in testing_data:\n",
    "    X_test.append(features)\n",
    "    y_test.append(label)\n",
    "X_test=np.array(X_test).reshape(-1,IMG_SIZE,IMG_SIZE,3)\n",
    "y_test=np.array(y_test)"
   ]
  },
  {
   "cell_type": "code",
   "execution_count": 98,
   "metadata": {},
   "outputs": [
    {
     "data": {
      "image/png": "[encoded data removed]",
      "text/plain": [
       "<Figure size 432x288 with 1 Axes>"
      ]
     },
     "metadata": {},
     "output_type": "display_data"
    }
   ],
   "source": [
    "plt.imshow(X_test[6].reshape(IMG_SIZE,IMG_SIZE,3))\n",
    "plt.show()"
   ]
  },
  {
   "cell_type": "code",
   "execution_count": 25,
   "metadata": {},
   "outputs": [],
   "source": [
    "import pickle\n",
    "\n",
    "pickle_out = open(\"X.pickle\",\"wb\")\n",
    "pickle.dump(X, pickle_out)\n",
    "pickle_out.close()\n",
    "\n",
    "pickle_out = open(\"y.pickle\",\"wb\")\n",
    "pickle.dump(y, pickle_out)\n",
    "pickle_out.close()"
   ]
  },
  {
   "cell_type": "code",
   "execution_count": 100,
   "metadata": {},
   "outputs": [],
   "source": [
    "pickle_out = open(\"X_test.pickle\",\"wb\")\n",
    "pickle.dump(X_test, pickle_out)\n",
    "pickle_out.close()\n",
    "\n",
    "pickle_out = open(\"y_test.pickle\",\"wb\")\n",
    "pickle.dump(y_test, pickle_out)\n",
    "pickle_out.close()"
   ]
  },
  {
   "cell_type": "code",
   "execution_count": 26,
   "metadata": {},
   "outputs": [],
   "source": [
    "inception.data_dir = 'inception/'"
   ]
  },
  {
   "cell_type": "code",
   "execution_count": 27,
   "metadata": {},
   "outputs": [
    {
     "name": "stdout",
     "output_type": "stream",
     "text": [
      "Downloading Inception v3 Model ...\n",
      "Data has apparently already been downloaded and unpacked.\n"
     ]
    }
   ],
   "source": [
    "inception.maybe_download()"
   ]
  },
  {
   "cell_type": "code",
   "execution_count": 28,
   "metadata": {},
   "outputs": [],
   "source": [
    "from inception import transfer_values_cache"
   ]
  },
  {
   "cell_type": "code",
   "execution_count": 29,
   "metadata": {},
   "outputs": [],
   "source": [
    "fruits360_path=\"data/fruits360/\""
   ]
  },
  {
   "cell_type": "code",
   "execution_count": 30,
   "metadata": {},
   "outputs": [],
   "source": [
    "file_path_cache_train = os.path.join(fruits360_path, 'inception_fruits360_train.pkl')\n",
    "file_path_cache_test = os.path.join(fruits360_path, 'inception_fruits360_test.pkl')"
   ]
  },
  {
   "cell_type": "code",
   "execution_count": 31,
   "metadata": {},
   "outputs": [],
   "source": [
    "model = inception.Inception()"
   ]
  },
  {
   "cell_type": "code",
   "execution_count": 32,
   "metadata": {},
   "outputs": [
    {
     "name": "stdout",
     "output_type": "stream",
     "text": [
      "Processing Inception transfer-values for training-images ...\n",
      "- Processing image:  36117 / 36117\n",
      "- Data saved to cache-file: data/fruits360/inception_fruits360_train.pkl\n"
     ]
    }
   ],
   "source": [
    "print(\"Processing Inception transfer-values for training-images ...\")\n",
    "\n",
    "# Scale images because Inception needs pixels to be between 0 and 255,\n",
    "# while the CIFAR-10 functions return pixels between 0.0 and 1.0\n",
    "\n",
    "# If transfer-values have already been calculated then reload them,\n",
    "# otherwise calculate them and save them to a cache-file.\n",
    "transfer_values_train = transfer_values_cache(cache_path=file_path_cache_train,\n",
    "                                              images=X,\n",
    "                                              model=model)"
   ]
  },
  {
   "cell_type": "code",
   "execution_count": 101,
   "metadata": {},
   "outputs": [
    {
     "name": "stdout",
     "output_type": "stream",
     "text": [
      "Processing Inception transfer-values for test-images ...\n",
      "- Processing image:  12132 / 12132\n",
      "- Data saved to cache-file: data/fruits360/inception_fruits360_test.pkl\n"
     ]
    }
   ],
   "source": [
    "print(\"Processing Inception transfer-values for test-images ...\")\n",
    "\n",
    "# If transfer-values have already been calculated then reload them,\n",
    "# otherwise calculate them and save them to a cache-file.\n",
    "transfer_values_test = transfer_values_cache(cache_path=file_path_cache_test,\n",
    "                                             images=X_test,\n",
    "                                             model=model)"
   ]
  },
  {
   "cell_type": "code",
   "execution_count": 34,
   "metadata": {},
   "outputs": [
    {
     "data": {
      "text/plain": [
       "(36117, 2048)"
      ]
     },
     "execution_count": 34,
     "metadata": {},
     "output_type": "execute_result"
    }
   ],
   "source": [
    "transfer_values_train.shape"
   ]
  },
  {
   "cell_type": "code",
   "execution_count": 102,
   "metadata": {},
   "outputs": [
    {
     "data": {
      "text/plain": [
       "(12132, 2048)"
      ]
     },
     "execution_count": 102,
     "metadata": {},
     "output_type": "execute_result"
    }
   ],
   "source": [
    "transfer_values_test.shape"
   ]
  },
  {
   "cell_type": "code",
   "execution_count": 103,
   "metadata": {},
   "outputs": [],
   "source": [
    "def plot_transfer_values(i):\n",
    "    print(\"Input image:\")\n",
    "    \n",
    "    # Plot the i'th image from the test-set.\n",
    "    plt.imshow(X_test[i], interpolation='nearest')\n",
    "    plt.show()\n",
    "\n",
    "    print(\"Transfer-values for the image using Inception model:\")\n",
    "    \n",
    "    # Transform the transfer-values into an image.\n",
    "    img = transfer_values_test[i]\n",
    "    img = img.reshape((32, 64))\n",
    "\n",
    "    # Plot the image for the transfer-values.\n",
    "    plt.imshow(img, interpolation='nearest', cmap='Reds')\n",
    "    plt.show()"
   ]
  },
  {
   "cell_type": "code",
   "execution_count": 104,
   "metadata": {},
   "outputs": [
    {
     "name": "stdout",
     "output_type": "stream",
     "text": [
      "Input image:\n"
     ]
    },
    {
     "data": {
      "image/png": "[encoded data removed]",
      "text/plain": [
       "<Figure size 432x288 with 1 Axes>"
      ]
     },
     "metadata": {},
     "output_type": "display_data"
    },
    {
     "name": "stdout",
     "output_type": "stream",
     "text": [
      "Transfer-values for the image using Inception model:\n"
     ]
    },
    {
     "data": {
      "image/png": "[encoded data removed]",
      "text/plain": [
       "<Figure size 432x288 with 1 Axes>"
      ]
     },
     "metadata": {},
     "output_type": "display_data"
    }
   ],
   "source": [
    "plot_transfer_values(i=16)"
   ]
  },
  {
   "cell_type": "code",
   "execution_count": 105,
   "metadata": {},
   "outputs": [
    {
     "name": "stdout",
     "output_type": "stream",
     "text": [
      "Input image:\n"
     ]
    },
    {
     "data": {
      "image/png": "[encoded data removed]",
      "text/plain": [
       "<Figure size 432x288 with 1 Axes>"
      ]
     },
     "metadata": {},
     "output_type": "display_data"
    },
    {
     "name": "stdout",
     "output_type": "stream",
     "text": [
      "Transfer-values for the image using Inception model:\n"
     ]
    },
    {
     "data": {
      "image/png": "[encoded data removed]",
      "text/plain": [
       "<Figure size 432x288 with 1 Axes>"
      ]
     },
     "metadata": {},
     "output_type": "display_data"
    }
   ],
   "source": [
    "plot_transfer_values(i=17)"
   ]
  },
  {
   "cell_type": "code",
   "execution_count": 39,
   "metadata": {},
   "outputs": [],
   "source": [
    "from sklearn.decomposition import PCA"
   ]
  },
  {
   "cell_type": "code",
   "execution_count": 40,
   "metadata": {},
   "outputs": [],
   "source": [
    "pca = PCA(n_components=2)"
   ]
  },
  {
   "cell_type": "code",
   "execution_count": 41,
   "metadata": {},
   "outputs": [],
   "source": [
    "transfer_values = transfer_values_train[0:3000]"
   ]
  },
  {
   "cell_type": "code",
   "execution_count": 42,
   "metadata": {},
   "outputs": [
    {
     "data": {
      "text/plain": [
       "(3000, 2048)"
      ]
     },
     "execution_count": 42,
     "metadata": {},
     "output_type": "execute_result"
    }
   ],
   "source": [
    "transfer_values.shape"
   ]
  },
  {
   "cell_type": "code",
   "execution_count": 43,
   "metadata": {},
   "outputs": [],
   "source": [
    "cls_train = y[0:3000]"
   ]
  },
  {
   "cell_type": "code",
   "execution_count": 44,
   "metadata": {},
   "outputs": [],
   "source": [
    "transfer_values_reduced = pca.fit_transform(transfer_values)"
   ]
  },
  {
   "cell_type": "code",
   "execution_count": 45,
   "metadata": {},
   "outputs": [
    {
     "data": {
      "text/plain": [
       "(3000, 2)"
      ]
     },
     "execution_count": 45,
     "metadata": {},
     "output_type": "execute_result"
    }
   ],
   "source": [
    "transfer_values_reduced.shape"
   ]
  },
  {
   "cell_type": "code",
   "execution_count": 46,
   "metadata": {},
   "outputs": [],
   "source": [
    "num_classes=72"
   ]
  },
  {
   "cell_type": "code",
   "execution_count": 47,
   "metadata": {},
   "outputs": [],
   "source": [
    "def plot_scatter(values, cls):\n",
    "    # Create a color-map with a different color for each class.\n",
    "    import matplotlib.cm as cm\n",
    "    cmap = cm.rainbow(np.linspace(0.0, 1.0, num_classes))\n",
    "\n",
    "    # Get the color for each sample.\n",
    "    colors = cmap[cls]\n",
    "\n",
    "    # Extract the x- and y-values.\n",
    "    x = values[:, 0]\n",
    "    y = values[:, 1]\n",
    "\n",
    "    # Plot it.\n",
    "    plt.scatter(x, y, color=colors)\n",
    "    plt.show()"
   ]
  },
  {
   "cell_type": "code",
   "execution_count": 48,
   "metadata": {},
   "outputs": [
    {
     "data": {
      "image/png": "[encoded data removed]",
      "text/plain": [
       "<Figure size 432x288 with 1 Axes>"
      ]
     },
     "metadata": {},
     "output_type": "display_data"
    }
   ],
   "source": [
    "plot_scatter(transfer_values_reduced, cls_train)"
   ]
  },
  {
   "cell_type": "code",
   "execution_count": 49,
   "metadata": {},
   "outputs": [],
   "source": [
    "from sklearn.manifold import TSNE"
   ]
  },
  {
   "cell_type": "code",
   "execution_count": 50,
   "metadata": {},
   "outputs": [],
   "source": [
    "pca = PCA(n_components=50)\n",
    "transfer_values_50d = pca.fit_transform(transfer_values)"
   ]
  },
  {
   "cell_type": "code",
   "execution_count": 51,
   "metadata": {},
   "outputs": [],
   "source": [
    "tsne = TSNE(n_components=2)"
   ]
  },
  {
   "cell_type": "code",
   "execution_count": 52,
   "metadata": {},
   "outputs": [],
   "source": [
    "transfer_values_reduced = tsne.fit_transform(transfer_values_50d)"
   ]
  },
  {
   "cell_type": "code",
   "execution_count": 53,
   "metadata": {},
   "outputs": [
    {
     "data": {
      "text/plain": [
       "(3000, 2)"
      ]
     },
     "execution_count": 53,
     "metadata": {},
     "output_type": "execute_result"
    }
   ],
   "source": [
    "transfer_values_reduced.shape"
   ]
  },
  {
   "cell_type": "code",
   "execution_count": 54,
   "metadata": {},
   "outputs": [
    {
     "data": {
      "image/png": "[encoded data removed]",
      "text/plain": [
       "<Figure size 432x288 with 1 Axes>"
      ]
     },
     "metadata": {},
     "output_type": "display_data"
    }
   ],
   "source": [
    "plot_scatter(transfer_values_reduced, cls_train)"
   ]
  },
  {
   "cell_type": "code",
   "execution_count": 55,
   "metadata": {},
   "outputs": [],
   "source": [
    "x = tf.placeholder(tf.float32, shape=[None, 2048], name='x')"
   ]
  },
  {
   "cell_type": "code",
   "execution_count": 56,
   "metadata": {},
   "outputs": [],
   "source": [
    "y_true = tf.placeholder(tf.float32, shape=[None, num_classes], name='y_true')"
   ]
  },
  {
   "cell_type": "code",
   "execution_count": 57,
   "metadata": {},
   "outputs": [
    {
     "name": "stdout",
     "output_type": "stream",
     "text": [
      "WARNING:tensorflow:From <ipython-input-57-71ccadb4572d>:1: calling argmax (from tensorflow.python.ops.math_ops) with dimension is deprecated and will be removed in a future version.\n",
      "Instructions for updating:\n",
      "Use the `axis` argument instead\n"
     ]
    }
   ],
   "source": [
    "y_true_cls = tf.argmax(y_true, dimension=1)"
   ]
  },
  {
   "cell_type": "code",
   "execution_count": 58,
   "metadata": {},
   "outputs": [],
   "source": [
    "fc_size=1024"
   ]
  },
  {
   "cell_type": "code",
   "execution_count": 59,
   "metadata": {},
   "outputs": [],
   "source": [
    "def new_weights(shape):\n",
    "    return tf.Variable(tf.truncated_normal(shape, stddev=0.05))"
   ]
  },
  {
   "cell_type": "code",
   "execution_count": 60,
   "metadata": {},
   "outputs": [],
   "source": [
    "def new_biases(length):\n",
    "    return tf.Variable(tf.constant(0.05, shape=[length]))"
   ]
  },
  {
   "cell_type": "code",
   "execution_count": 61,
   "metadata": {},
   "outputs": [],
   "source": [
    "def new_fc_layer(input,          # The previous layer.\n",
    "                 num_inputs,     # Num. inputs from prev. layer.\n",
    "                 num_outputs,    # Num. outputs.\n",
    "                 use_relu=True): # Use Rectified Linear Unit (ReLU)?\n",
    "\n",
    "    # Create new weights and biases.\n",
    "    weights = new_weights(shape=[num_inputs, num_outputs])\n",
    "    biases = new_biases(length=num_outputs)\n",
    "\n",
    "    # Calculate the layer as the matrix multiplication of\n",
    "    # the input and weights, and then add the bias-values.\n",
    "    layer = tf.matmul(input, weights) + biases\n",
    "\n",
    "    # Use ReLU?\n",
    "    if use_relu:\n",
    "        layer = tf.nn.relu(layer)\n",
    "\n",
    "    return layer"
   ]
  },
  {
   "cell_type": "code",
   "execution_count": 62,
   "metadata": {},
   "outputs": [],
   "source": [
    "layer_fc1 = new_fc_layer(input=x,\n",
    "                         num_inputs=2048,\n",
    "                         num_outputs=fc_size,\n",
    "                         use_relu=True)"
   ]
  },
  {
   "cell_type": "code",
   "execution_count": 63,
   "metadata": {},
   "outputs": [],
   "source": [
    "layer_fc2 = new_fc_layer(input=layer_fc1,\n",
    "                         num_inputs=fc_size,\n",
    "                         num_outputs=num_classes,\n",
    "                         use_relu=False)"
   ]
  },
  {
   "cell_type": "code",
   "execution_count": 64,
   "metadata": {},
   "outputs": [],
   "source": [
    "y_pred = tf.nn.softmax(layer_fc2)"
   ]
  },
  {
   "cell_type": "code",
   "execution_count": 65,
   "metadata": {},
   "outputs": [],
   "source": [
    "y_pred_cls = tf.argmax(y_pred, axis=1)"
   ]
  },
  {
   "cell_type": "code",
   "execution_count": 66,
   "metadata": {},
   "outputs": [
    {
     "name": "stdout",
     "output_type": "stream",
     "text": [
      "WARNING:tensorflow:From <ipython-input-66-c29e178fb653>:1: softmax_cross_entropy_with_logits (from tensorflow.python.ops.nn_ops) is deprecated and will be removed in a future version.\n",
      "Instructions for updating:\n",
      "\n",
      "Future major versions of TensorFlow will allow gradients to flow\n",
      "into the labels input on backprop by default.\n",
      "\n",
      "See @{tf.nn.softmax_cross_entropy_with_logits_v2}.\n",
      "\n"
     ]
    }
   ],
   "source": [
    "cross_entropy = tf.nn.softmax_cross_entropy_with_logits(logits=layer_fc2,labels=y_true)"
   ]
  },
  {
   "cell_type": "code",
   "execution_count": 67,
   "metadata": {},
   "outputs": [],
   "source": [
    "loss = tf.reduce_mean(cross_entropy)"
   ]
  },
  {
   "cell_type": "code",
   "execution_count": 68,
   "metadata": {},
   "outputs": [],
   "source": [
    "global_step = tf.Variable(initial_value=0,name='global_step', trainable=False)"
   ]
  },
  {
   "cell_type": "code",
   "execution_count": 69,
   "metadata": {},
   "outputs": [],
   "source": [
    "optimizer = tf.train.AdamOptimizer(learning_rate=1e-4).minimize(loss, global_step)"
   ]
  },
  {
   "cell_type": "code",
   "execution_count": 70,
   "metadata": {},
   "outputs": [],
   "source": [
    "correct_prediction = tf.equal(y_pred_cls, y_true_cls)"
   ]
  },
  {
   "cell_type": "code",
   "execution_count": 71,
   "metadata": {},
   "outputs": [],
   "source": [
    "accuracy = tf.reduce_mean(tf.cast(correct_prediction, tf.float32))"
   ]
  },
  {
   "cell_type": "code",
   "execution_count": 72,
   "metadata": {},
   "outputs": [],
   "source": [
    "session = tf.Session()"
   ]
  },
  {
   "cell_type": "code",
   "execution_count": 73,
   "metadata": {},
   "outputs": [],
   "source": [
    "session.run(tf.global_variables_initializer())"
   ]
  },
  {
   "cell_type": "code",
   "execution_count": 74,
   "metadata": {},
   "outputs": [],
   "source": [
    "train_batch_size = 64"
   ]
  },
  {
   "cell_type": "code",
   "execution_count": 75,
   "metadata": {},
   "outputs": [],
   "source": [
    "from tensorflow.python.keras.utils.np_utils import to_categorical\n",
    "def random_batch():\n",
    "    # Number of images (transfer-values) in the training-set.\n",
    "    num_images = len(transfer_values_train)\n",
    "\n",
    "    # Create a random index.\n",
    "    idx = np.random.choice(num_images,\n",
    "                           size=train_batch_size,\n",
    "                           replace=False)\n",
    "\n",
    "    # Use the random index to select random x and y-values.\n",
    "    # We use the transfer-values instead of images as x-values.\n",
    "    x_batch = transfer_values_train[idx]\n",
    "    y_labels=to_categorical(y)\n",
    "    y_batch = y_labels[idx]\n",
    "\n",
    "    return x_batch, y_batch"
   ]
  },
  {
   "cell_type": "code",
   "execution_count": 76,
   "metadata": {},
   "outputs": [],
   "source": [
    "def optimize(num_iterations):\n",
    "    # Start-time used for printing time-usage below.\n",
    "    start_time = time.time()\n",
    "\n",
    "    for i in range(num_iterations):\n",
    "        # Get a batch of training examples.\n",
    "        # x_batch now holds a batch of images (transfer-values) and\n",
    "        # y_true_batch are the true labels for those images.\n",
    "        x_batch, y_true_batch = random_batch()\n",
    "        # Put the batch into a dict with the proper names\n",
    "        # for placeholder variables in the TensorFlow graph.\n",
    "        feed_dict_train = {x: x_batch,\n",
    "                           y_true: y_true_batch}\n",
    "\n",
    "        # Run the optimizer using this batch of training data.\n",
    "        # TensorFlow assigns the variables in feed_dict_train\n",
    "        # to the placeholder variables and then runs the optimizer.\n",
    "        # We also want to retrieve the global_step counter.\n",
    "        i_global, _ = session.run([global_step, optimizer],\n",
    "                                  feed_dict=feed_dict_train)\n",
    "\n",
    "        # Print status to screen every 100 iterations (and last).\n",
    "        if (i_global % 100 == 0) or (i == num_iterations - 1):\n",
    "            # Calculate the accuracy on the training-batch.\n",
    "            batch_acc = session.run(accuracy,\n",
    "                                    feed_dict=feed_dict_train)\n",
    "\n",
    "            # Print status.\n",
    "            msg = \"Global Step: {0:>6}, Training Batch Accuracy: {1:>6.1%}\"\n",
    "            print(msg.format(i_global, batch_acc))\n",
    "\n",
    "    # Ending time.\n",
    "    end_time = time.time()\n",
    "\n",
    "    # Difference between start and end-times.\n",
    "    time_dif = end_time - start_time\n",
    "\n",
    "    # Print the time-usage.\n",
    "    print(\"Time usage: \" + str(timedelta(seconds=int(round(time_dif)))))"
   ]
  },
  {
   "cell_type": "code",
   "execution_count": 106,
   "metadata": {},
   "outputs": [],
   "source": [
    "from tensorflow.python.keras.utils.np_utils import to_categorical\n",
    "\n",
    "y_test_labels=to_categorical(y_test)"
   ]
  },
  {
   "cell_type": "code",
   "execution_count": 107,
   "metadata": {},
   "outputs": [
    {
     "name": "stdout",
     "output_type": "stream",
     "text": [
      "[[1. 0. 0. 0. 0. 0. 0. 0. 0. 0. 0. 0. 0. 0. 0. 0. 0. 0. 0. 0. 0. 0. 0. 0.\n",
      "  0. 0. 0. 0. 0. 0. 0. 0. 0. 0. 0. 0. 0. 0. 0. 0. 0. 0. 0. 0. 0. 0. 0. 0.\n",
      "  0. 0. 0. 0. 0. 0. 0. 0. 0. 0. 0. 0. 0. 0. 0. 0. 0. 0. 0. 0. 0. 0. 0. 0.]\n",
      " [1. 0. 0. 0. 0. 0. 0. 0. 0. 0. 0. 0. 0. 0. 0. 0. 0. 0. 0. 0. 0. 0. 0. 0.\n",
      "  0. 0. 0. 0. 0. 0. 0. 0. 0. 0. 0. 0. 0. 0. 0. 0. 0. 0. 0. 0. 0. 0. 0. 0.\n",
      "  0. 0. 0. 0. 0. 0. 0. 0. 0. 0. 0. 0. 0. 0. 0. 0. 0. 0. 0. 0. 0. 0. 0. 0.]]\n"
     ]
    }
   ],
   "source": [
    "print(y_test_labels[:2])"
   ]
  },
  {
   "cell_type": "code",
   "execution_count": 108,
   "metadata": {},
   "outputs": [
    {
     "name": "stdout",
     "output_type": "stream",
     "text": [
      "[0 0]\n"
     ]
    }
   ],
   "source": [
    "print(y_test[:2])"
   ]
  },
  {
   "cell_type": "code",
   "execution_count": null,
   "metadata": {},
   "outputs": [],
   "source": []
  },
  {
   "cell_type": "code",
   "execution_count": 109,
   "metadata": {},
   "outputs": [],
   "source": [
    "feed_dict_test = {x: transfer_values_test,\n",
    "                  y_true: y_test_labels,\n",
    "                  y_true_cls: y_test}"
   ]
  },
  {
   "cell_type": "code",
   "execution_count": 110,
   "metadata": {},
   "outputs": [],
   "source": [
    "def print_accuracy():\n",
    "    # Use TensorFlow to compute the accuracy.\n",
    "    acc = session.run(accuracy, feed_dict=feed_dict_test)\n",
    "    \n",
    "    # Print the accuracy.\n",
    "    print(\"Accuracy on test-set: {0:.1%}\".format(acc))"
   ]
  },
  {
   "cell_type": "code",
   "execution_count": 111,
   "metadata": {},
   "outputs": [
    {
     "name": "stdout",
     "output_type": "stream",
     "text": [
      "Accuracy on test-set: 97.3%\n"
     ]
    }
   ],
   "source": [
    "print_accuracy()"
   ]
  },
  {
   "cell_type": "code",
   "execution_count": 84,
   "metadata": {},
   "outputs": [
    {
     "name": "stdout",
     "output_type": "stream",
     "text": [
      "Global Step:    100, Training Batch Accuracy:  79.7%\n",
      "Global Step:    200, Training Batch Accuracy:  93.8%\n",
      "Global Step:    300, Training Batch Accuracy:  96.9%\n",
      "Global Step:    400, Training Batch Accuracy: 100.0%\n",
      "Global Step:    500, Training Batch Accuracy:  98.4%\n",
      "Global Step:    600, Training Batch Accuracy: 100.0%\n",
      "Global Step:    700, Training Batch Accuracy:  98.4%\n",
      "Global Step:    800, Training Batch Accuracy:  96.9%\n",
      "Global Step:    900, Training Batch Accuracy:  98.4%\n",
      "Global Step:   1000, Training Batch Accuracy:  96.9%\n",
      "Global Step:   1100, Training Batch Accuracy: 100.0%\n",
      "Global Step:   1200, Training Batch Accuracy: 100.0%\n",
      "Global Step:   1300, Training Batch Accuracy: 100.0%\n",
      "Global Step:   1400, Training Batch Accuracy: 100.0%\n",
      "Global Step:   1500, Training Batch Accuracy: 100.0%\n",
      "Global Step:   1600, Training Batch Accuracy:  98.4%\n",
      "Global Step:   1700, Training Batch Accuracy: 100.0%\n",
      "Global Step:   1800, Training Batch Accuracy: 100.0%\n",
      "Global Step:   1900, Training Batch Accuracy: 100.0%\n",
      "Global Step:   2000, Training Batch Accuracy: 100.0%\n",
      "Global Step:   2100, Training Batch Accuracy:  98.4%\n",
      "Global Step:   2200, Training Batch Accuracy: 100.0%\n",
      "Global Step:   2300, Training Batch Accuracy:  98.4%\n",
      "Global Step:   2400, Training Batch Accuracy: 100.0%\n",
      "Global Step:   2500, Training Batch Accuracy: 100.0%\n",
      "Time usage: 0:01:02\n"
     ]
    }
   ],
   "source": [
    "optimize(num_iterations=2500)"
   ]
  },
  {
   "cell_type": "code",
   "execution_count": 112,
   "metadata": {},
   "outputs": [
    {
     "name": "stdout",
     "output_type": "stream",
     "text": [
      "Accuracy on test-set: 97.3%\n"
     ]
    }
   ],
   "source": [
    "print_accuracy()"
   ]
  },
  {
   "cell_type": "code",
   "execution_count": 113,
   "metadata": {},
   "outputs": [
    {
     "name": "stdout",
     "output_type": "stream",
     "text": [
      "Global Step:   2600, Training Batch Accuracy: 100.0%\n",
      "Global Step:   2700, Training Batch Accuracy: 100.0%\n",
      "Global Step:   2800, Training Batch Accuracy: 100.0%\n",
      "Global Step:   2900, Training Batch Accuracy: 100.0%\n",
      "Global Step:   3000, Training Batch Accuracy:  98.4%\n",
      "Global Step:   3100, Training Batch Accuracy:  98.4%\n",
      "Global Step:   3200, Training Batch Accuracy:  98.4%\n",
      "Global Step:   3300, Training Batch Accuracy: 100.0%\n",
      "Global Step:   3400, Training Batch Accuracy:  98.4%\n",
      "Global Step:   3500, Training Batch Accuracy: 100.0%\n",
      "Global Step:   3600, Training Batch Accuracy: 100.0%\n",
      "Global Step:   3700, Training Batch Accuracy:  98.4%\n",
      "Global Step:   3800, Training Batch Accuracy: 100.0%\n",
      "Global Step:   3900, Training Batch Accuracy:  98.4%\n",
      "Global Step:   4000, Training Batch Accuracy:  98.4%\n",
      "Global Step:   4100, Training Batch Accuracy: 100.0%\n",
      "Global Step:   4200, Training Batch Accuracy: 100.0%\n",
      "Global Step:   4300, Training Batch Accuracy: 100.0%\n",
      "Global Step:   4400, Training Batch Accuracy: 100.0%\n",
      "Global Step:   4500, Training Batch Accuracy: 100.0%\n",
      "Global Step:   4600, Training Batch Accuracy:  96.9%\n",
      "Global Step:   4700, Training Batch Accuracy: 100.0%\n",
      "Global Step:   4800, Training Batch Accuracy: 100.0%\n",
      "Global Step:   4900, Training Batch Accuracy: 100.0%\n",
      "Global Step:   5000, Training Batch Accuracy: 100.0%\n",
      "Time usage: 0:01:06\n"
     ]
    }
   ],
   "source": [
    "optimize(num_iterations=2500)"
   ]
  },
  {
   "cell_type": "code",
   "execution_count": 114,
   "metadata": {},
   "outputs": [
    {
     "name": "stdout",
     "output_type": "stream",
     "text": [
      "Accuracy on test-set: 98.0%\n"
     ]
    }
   ],
   "source": [
    "print_accuracy()"
   ]
  },
  {
   "cell_type": "code",
   "execution_count": 115,
   "metadata": {},
   "outputs": [
    {
     "name": "stdout",
     "output_type": "stream",
     "text": [
      "Global Step:   5100, Training Batch Accuracy: 100.0%\n",
      "Global Step:   5200, Training Batch Accuracy: 100.0%\n",
      "Global Step:   5300, Training Batch Accuracy: 100.0%\n",
      "Global Step:   5400, Training Batch Accuracy: 100.0%\n",
      "Global Step:   5500, Training Batch Accuracy:  96.9%\n",
      "Global Step:   5600, Training Batch Accuracy: 100.0%\n",
      "Global Step:   5700, Training Batch Accuracy: 100.0%\n",
      "Global Step:   5800, Training Batch Accuracy: 100.0%\n",
      "Global Step:   5900, Training Batch Accuracy: 100.0%\n",
      "Global Step:   6000, Training Batch Accuracy: 100.0%\n",
      "Time usage: 0:00:25\n"
     ]
    }
   ],
   "source": [
    "optimize(num_iterations=1000)"
   ]
  },
  {
   "cell_type": "code",
   "execution_count": 116,
   "metadata": {},
   "outputs": [
    {
     "name": "stdout",
     "output_type": "stream",
     "text": [
      "Accuracy on test-set: 97.9%\n"
     ]
    }
   ],
   "source": [
    "print_accuracy()"
   ]
  },
  {
   "cell_type": "code",
   "execution_count": 117,
   "metadata": {},
   "outputs": [
    {
     "name": "stdout",
     "output_type": "stream",
     "text": [
      "Global Step:   6100, Training Batch Accuracy: 100.0%\n",
      "Global Step:   6200, Training Batch Accuracy:  98.4%\n",
      "Global Step:   6300, Training Batch Accuracy: 100.0%\n",
      "Global Step:   6400, Training Batch Accuracy: 100.0%\n",
      "Global Step:   6500, Training Batch Accuracy: 100.0%\n",
      "Global Step:   6600, Training Batch Accuracy: 100.0%\n",
      "Global Step:   6700, Training Batch Accuracy: 100.0%\n",
      "Global Step:   6800, Training Batch Accuracy: 100.0%\n",
      "Global Step:   6900, Training Batch Accuracy:  96.9%\n",
      "Global Step:   7000, Training Batch Accuracy: 100.0%\n",
      "Time usage: 0:00:25\n"
     ]
    }
   ],
   "source": [
    "optimize(num_iterations=1000)"
   ]
  },
  {
   "cell_type": "code",
   "execution_count": 118,
   "metadata": {},
   "outputs": [
    {
     "name": "stdout",
     "output_type": "stream",
     "text": [
      "Accuracy on test-set: 97.9%\n"
     ]
    }
   ],
   "source": [
    "print_accuracy()"
   ]
  },
  {
   "cell_type": "code",
   "execution_count": 119,
   "metadata": {},
   "outputs": [
    {
     "name": "stdout",
     "output_type": "stream",
     "text": [
      "Global Step:   7100, Training Batch Accuracy: 100.0%\n",
      "Global Step:   7200, Training Batch Accuracy:  98.4%\n",
      "Global Step:   7300, Training Batch Accuracy: 100.0%\n",
      "Global Step:   7400, Training Batch Accuracy: 100.0%\n",
      "Global Step:   7500, Training Batch Accuracy: 100.0%\n",
      "Global Step:   7600, Training Batch Accuracy: 100.0%\n",
      "Global Step:   7700, Training Batch Accuracy: 100.0%\n",
      "Global Step:   7800, Training Batch Accuracy: 100.0%\n",
      "Global Step:   7900, Training Batch Accuracy:  98.4%\n",
      "Global Step:   8000, Training Batch Accuracy: 100.0%\n",
      "Time usage: 0:00:25\n"
     ]
    }
   ],
   "source": [
    "optimize(num_iterations=1000)"
   ]
  },
  {
   "cell_type": "code",
   "execution_count": 120,
   "metadata": {},
   "outputs": [
    {
     "name": "stdout",
     "output_type": "stream",
     "text": [
      "Accuracy on test-set: 98.1%\n"
     ]
    }
   ],
   "source": [
    "print_accuracy()"
   ]
  },
  {
   "cell_type": "code",
   "execution_count": 121,
   "metadata": {},
   "outputs": [
    {
     "name": "stdout",
     "output_type": "stream",
     "text": [
      "Global Step:   8100, Training Batch Accuracy: 100.0%\n",
      "Global Step:   8200, Training Batch Accuracy: 100.0%\n",
      "Global Step:   8300, Training Batch Accuracy: 100.0%\n",
      "Global Step:   8400, Training Batch Accuracy: 100.0%\n",
      "Global Step:   8500, Training Batch Accuracy: 100.0%\n",
      "Time usage: 0:00:12\n"
     ]
    }
   ],
   "source": [
    "optimize(num_iterations=500)"
   ]
  },
  {
   "cell_type": "code",
   "execution_count": 122,
   "metadata": {},
   "outputs": [
    {
     "name": "stdout",
     "output_type": "stream",
     "text": [
      "Accuracy on test-set: 98.0%\n"
     ]
    }
   ],
   "source": [
    "print_accuracy()"
   ]
  },
  {
   "cell_type": "code",
   "execution_count": 123,
   "metadata": {},
   "outputs": [
    {
     "name": "stdout",
     "output_type": "stream",
     "text": [
      "Global Step:   8600, Training Batch Accuracy: 100.0%\n",
      "Global Step:   8700, Training Batch Accuracy: 100.0%\n",
      "Global Step:   8800, Training Batch Accuracy:  98.4%\n",
      "Global Step:   8900, Training Batch Accuracy: 100.0%\n",
      "Global Step:   9000, Training Batch Accuracy: 100.0%\n",
      "Global Step:   9100, Training Batch Accuracy: 100.0%\n",
      "Global Step:   9200, Training Batch Accuracy: 100.0%\n",
      "Global Step:   9300, Training Batch Accuracy:  98.4%\n",
      "Global Step:   9400, Training Batch Accuracy: 100.0%\n",
      "Global Step:   9500, Training Batch Accuracy: 100.0%\n",
      "Global Step:   9600, Training Batch Accuracy: 100.0%\n",
      "Global Step:   9700, Training Batch Accuracy: 100.0%\n",
      "Global Step:   9800, Training Batch Accuracy: 100.0%\n",
      "Global Step:   9900, Training Batch Accuracy: 100.0%\n",
      "Global Step:  10000, Training Batch Accuracy: 100.0%\n",
      "Time usage: 0:00:38\n"
     ]
    }
   ],
   "source": [
    "optimize(num_iterations=1500)"
   ]
  },
  {
   "cell_type": "code",
   "execution_count": 124,
   "metadata": {},
   "outputs": [
    {
     "name": "stdout",
     "output_type": "stream",
     "text": [
      "Accuracy on test-set: 97.9%\n"
     ]
    }
   ],
   "source": [
    "print_accuracy()"
   ]
  },
  {
   "cell_type": "code",
   "execution_count": null,
   "metadata": {},
   "outputs": [],
   "source": []
  }
 ],
 "metadata": {
  "kernelspec": {
   "display_name": "Python 3",
   "language": "python",
   "name": "python3"
  },
  "language_info": {
   "codemirror_mode": {
    "name": "ipython",
    "version": 3
   },
   "file_extension": ".py",
   "mimetype": "text/x-python",
   "name": "python",
   "nbconvert_exporter": "python",
   "pygments_lexer": "ipython3",
   "version": "3.5.5"
  }
 },
 "nbformat": 4,
 "nbformat_minor": 2
}
